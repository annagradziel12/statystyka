{
  "nbformat": 4,
  "nbformat_minor": 0,
  "metadata": {
    "kernelspec": {
      "display_name": "Python 3",
      "language": "python",
      "name": "python3"
    },
    "language_info": {
      "codemirror_mode": {
        "name": "ipython",
        "version": 3
      },
      "file_extension": ".py",
      "mimetype": "text/x-python",
      "name": "python",
      "nbconvert_exporter": "python",
      "pygments_lexer": "ipython3",
      "version": "3.7.4"
    },
    "colab": {
      "name": "04_rozklad_jednostajny.ipynb",
      "provenance": [],
      "include_colab_link": true
    }
  },
  "cells": [
    {
      "cell_type": "markdown",
      "metadata": {
        "id": "view-in-github",
        "colab_type": "text"
      },
      "source": [
        "<a href=\"https://colab.research.google.com/github/annagradziel12/statystyka/blob/master/04_rozklad_jednostajny.ipynb\" target=\"_parent\"><img src=\"https://colab.research.google.com/assets/colab-badge.svg\" alt=\"Open In Colab\"/></a>"
      ]
    },
    {
      "cell_type": "markdown",
      "metadata": {
        "id": "GhPGiS-c3UX-",
        "colab_type": "text"
      },
      "source": [
        "### Rozkład jednostajny - $U(a, b)$\n",
        "Zmienna losowa $X$ ma **rozkład jednostajny** na przedziale $[a,b]$, jeżeli gęstość $f$ jest postaci\n",
        "$$\n",
        "    f(x)=\\left.\n",
        "    \\begin{cases}\n",
        "    \\frac{1}{b-a} \\quad &\\text{dla}\\quad x\\in[a,b]\\\\\n",
        "    0 \\quad &\\text{dla}\\quad x\\not\\in [a,b]\n",
        "    \\end{cases}\\right.\n",
        "$$\n",
        "\n",
        "Wartość oczekiwana i wariancja dane są wzorami\n",
        "$$\n",
        "    \\mathbb{E}X = \\frac{a+b}{2}, \\quad \\text{Var}(X) = \\frac{(b-a)^2}{12}.\n",
        "$$"
      ]
    },
    {
      "cell_type": "code",
      "metadata": {
        "id": "hnYN4sHX3UYA",
        "colab_type": "code",
        "colab": {}
      },
      "source": [
        "import numpy as np\n",
        "import matplotlib.pyplot as plt\n",
        "\n",
        "from scipy import stats"
      ],
      "execution_count": null,
      "outputs": []
    },
    {
      "cell_type": "markdown",
      "metadata": {
        "id": "GkRNB2L73UYH",
        "colab_type": "text"
      },
      "source": [
        "### Zadanie\n",
        "1. Zdefiniuj zmienną losową dla rozkładu jednostajnego.\n",
        "2. Narysuj gęstość.\n",
        "3. Narysuj dystrybuantę.\n",
        "4. Wyznacz podstawowe charakterystyki rozkładu: średnia, wariancja, odchylenie standardowe.\n",
        "5. Wylosuj $n$ obserwacji z zdefiniowanego rozkładu.\n",
        "6. Narysujmy histogram dla wylosowanej powyżej próbki.\n",
        "7. Porównaj gęstości/dystrybuanty kilku różnych rozkładów jednostajnych."
      ]
    },
    {
      "cell_type": "code",
      "metadata": {
        "id": "aBW5h7U13UYI",
        "colab_type": "code",
        "colab": {}
      },
      "source": [
        "# 1. Definicja rozkładu jednostajnego na odcinku $[0,1]$\n",
        "uni = stats.uniform(loc=0, scale=1) # [a=loc, b=loc+scale]"
      ],
      "execution_count": null,
      "outputs": []
    },
    {
      "cell_type": "markdown",
      "metadata": {
        "id": "qxX0JlsA3UYO",
        "colab_type": "text"
      },
      "source": [
        "`pdf(x, loc=0, scale=1)` \tProbability density function."
      ]
    },
    {
      "cell_type": "code",
      "metadata": {
        "id": "ka0ZJN-_3UYP",
        "colab_type": "code",
        "colab": {},
        "outputId": "5ae7917d-65d4-4e3c-be34-84bb1a1b08f0"
      },
      "source": [
        "# 2. Gęstość = probability density function = pdf\n",
        "\n",
        "fig, ax = plt.subplots(1, 1)\n",
        "ax.set_xlim([-5, 6])\n",
        "ax.set_ylim([0, 1.2])\n",
        "\n",
        "x_value = np.linspace(-5, 6, 1000)\n",
        "ax.plot(x_value, uni.pdf(x_value), 'ro--', ms=2, label='uniform pdf')"
      ],
      "execution_count": null,
      "outputs": [
        {
          "output_type": "execute_result",
          "data": {
            "text/plain": [
              "[<matplotlib.lines.Line2D at 0x7fbdd201e890>]"
            ]
          },
          "metadata": {
            "tags": []
          },
          "execution_count": 4
        },
        {
          "output_type": "display_data",
          "data": {
            "image/png": "[encoded data removed]",
            "text/plain": [
              "<Figure size 432x288 with 1 Axes>"
            ]
          },
          "metadata": {
            "tags": [],
            "needs_background": "light"
          }
        }
      ]
    },
    {
      "cell_type": "code",
      "metadata": {
        "id": "hTs5Vsye3UYW",
        "colab_type": "code",
        "colab": {},
        "outputId": "a5a7113b-e15b-4b25-f400-52d7eab69655"
      },
      "source": [
        "# 3. Dystrybunta\n",
        "fig, ax = plt.subplots(1, 1)\n",
        "\n",
        "ax.set_xlim([-10, 10])\n",
        "ax.set_ylim([-0.1, 1.1])\n",
        "\n",
        "x = np.arange(-10, 10, 0.1)\n",
        "ax.plot(x, uni.cdf(x), 'r--', ms=1, label='uniform cdf')\n",
        "plt.show()"
      ],
      "execution_count": null,
      "outputs": [
        {
          "output_type": "display_data",
          "data": {
            "image/png": "[encoded data removed]",
            "text/plain": [
              "<Figure size 432x288 with 1 Axes>"
            ]
          },
          "metadata": {
            "tags": [],
            "needs_background": "light"
          }
        }
      ]
    },
    {
      "cell_type": "code",
      "metadata": {
        "id": "CyaLAso23UYa",
        "colab_type": "code",
        "colab": {},
        "outputId": "161ebc38-eb37-4f87-e6a5-9b9f4e3d3f9b"
      },
      "source": [
        "# 4. Charakterystyki rozkładu\n",
        "uni.stats('mv')"
      ],
      "execution_count": null,
      "outputs": [
        {
          "output_type": "execute_result",
          "data": {
            "text/plain": [
              "(array(0.5), array(0.08333333))"
            ]
          },
          "metadata": {
            "tags": []
          },
          "execution_count": 6
        }
      ]
    },
    {
      "cell_type": "code",
      "metadata": {
        "id": "fPrdup6D3UYi",
        "colab_type": "code",
        "colab": {},
        "outputId": "38243514-acde-4b47-bd60-9a3d0236c124"
      },
      "source": [
        "# 5. Wylosowana próbka z rozkładu\n",
        "x = uni.rvs(100)\n",
        "x.min(), x.max()"
      ],
      "execution_count": null,
      "outputs": [
        {
          "output_type": "execute_result",
          "data": {
            "text/plain": [
              "(0.012846570540726021, 0.9942285394270034)"
            ]
          },
          "metadata": {
            "tags": []
          },
          "execution_count": 7
        }
      ]
    },
    {
      "cell_type": "code",
      "metadata": {
        "id": "-bYQabBh3UYk",
        "colab_type": "code",
        "colab": {},
        "outputId": "76ba99c7-023b-47fc-8e7f-e444b718890a"
      },
      "source": [
        "uni2 = stats.uniform(loc=-2, scale=4) # a=-2, b=-2+4=2\n",
        "x2 = uni2.rvs(size=100)\n",
        "x2.min(), x2.max()"
      ],
      "execution_count": null,
      "outputs": [
        {
          "output_type": "execute_result",
          "data": {
            "text/plain": [
              "(-1.9404904275458308, 1.9845035032902754)"
            ]
          },
          "metadata": {
            "tags": []
          },
          "execution_count": 10
        }
      ]
    },
    {
      "cell_type": "code",
      "metadata": {
        "id": "eo9gNbGZ3UYn",
        "colab_type": "code",
        "colab": {},
        "outputId": "009279ba-6b2a-46a6-fc62-da5643973212"
      },
      "source": [
        "# 6. Histogram\n",
        "fig, ax = plt.subplots(1, 1)\n",
        "ax.hist(x, histtype='stepfilled', alpha=0.2, density=True)\n",
        "plt.show()"
      ],
      "execution_count": null,
      "outputs": [
        {
          "output_type": "display_data",
          "data": {
            "image/png": "[encoded data removed]",
            "text/plain": [
              "<Figure size 432x288 with 1 Axes>"
            ]
          },
          "metadata": {
            "tags": [],
            "needs_background": "light"
          }
        }
      ]
    },
    {
      "cell_type": "code",
      "metadata": {
        "id": "3kSNyY_a3UYp",
        "colab_type": "code",
        "colab": {},
        "outputId": "60d4c106-9743-4788-d024-a1a84cdee81e"
      },
      "source": [
        "# 7. Porównanie\n",
        "# gęstość\n",
        "uni2 = stats.uniform(loc=-2, scale=4)\n",
        "uni3 = stats.uniform(loc=0, scale=3)\n",
        "\n",
        "fig, ax = plt.subplots(1, 1)\n",
        "ax.set_xlim([-5, 6])\n",
        "ax.set_ylim([0, 1.2])\n",
        "\n",
        "x_value = np.linspace(-5, 6, 1000)\n",
        "ax.plot(x_value, uni.pdf(x_value), 'ro--', ms=2, label='uniform pdf 1')\n",
        "ax.plot(x_value, uni2.pdf(x_value), 'go--', ms=2, label='uniform pdf 2')\n",
        "ax.plot(x_value, uni3.pdf(x_value), 'bo--', ms=2, label='uniform pdf 3')\n",
        "ax.legend(loc='best', frameon=False)"
      ],
      "execution_count": null,
      "outputs": [
        {
          "output_type": "execute_result",
          "data": {
            "text/plain": [
              "<matplotlib.legend.Legend at 0x7fbdd1dc6a10>"
            ]
          },
          "metadata": {
            "tags": []
          },
          "execution_count": 12
        },
        {
          "output_type": "display_data",
          "data": {
            "image/png": "[encoded data removed]",
            "text/plain": [
              "<Figure size 432x288 with 1 Axes>"
            ]
          },
          "metadata": {
            "tags": [],
            "needs_background": "light"
          }
        }
      ]
    },
    {
      "cell_type": "code",
      "metadata": {
        "scrolled": true,
        "id": "QPDF-Z613UYr",
        "colab_type": "code",
        "colab": {},
        "outputId": "e824b7ba-a25e-4fb6-d154-1d3019beb748"
      },
      "source": [
        "# dystrybuanta\n",
        "fig, ax = plt.subplots(1, 1)\n",
        "\n",
        "ax.set_xlim([-10, 10])\n",
        "ax.set_ylim([-0.2, 1.2])\n",
        "\n",
        "x = np.arange(-10, 10, 0.1)\n",
        "ax.plot(x, uni.cdf(x), 'ro--', ms=1, label='uniform cdf 1')\n",
        "ax.plot(x, uni2.cdf(x), 'go--', ms=1, label='uniform cdf 2')\n",
        "ax.plot(x, uni3.cdf(x), 'bo--', ms=1, label='uniform cdf 3')\n",
        "\n",
        "plt.show()"
      ],
      "execution_count": null,
      "outputs": [
        {
          "output_type": "display_data",
          "data": {
            "image/png": "[encoded data removed]",
            "text/plain": [
              "<Figure size 432x288 with 1 Axes>"
            ]
          },
          "metadata": {
            "tags": [],
            "needs_background": "light"
          }
        }
      ]
    },
    {
      "cell_type": "markdown",
      "metadata": {
        "id": "GWY9S24m3UYt",
        "colab_type": "text"
      },
      "source": [
        "### Zadanie\n",
        "\n",
        "Zakładając, że zmienna losowa X ma rozkład jednostajny na odcinku $[-5, 5]$, oblicz prawdopodobieństwo:\n",
        "\n",
        "a) $P(-3 < X \\leq 3)$;\n",
        "\n",
        "b) $P( X > 0)$;\n",
        "\n",
        "c) $P( X < -10)$."
      ]
    },
    {
      "cell_type": "code",
      "metadata": {
        "id": "JfAiz3GS3UYt",
        "colab_type": "code",
        "colab": {},
        "outputId": "0f57a767-00c0-49dd-8922-e95935476202"
      },
      "source": [
        "uniform = stats.uniform(loc=-5, scale=10)\n",
        "\n",
        "\n",
        "# a)\n",
        "p1 = uniform.cdf(3) - uniform.cdf(-3)\n",
        "print('P(-3 < X <= 3) = {}'.format(p1))\n",
        "\n",
        "# b)\n",
        "p2 = 1 - uniform.cdf(0)\n",
        "print('P(X > 0) = {}'.format(p2))\n",
        "\n",
        "# c)\n",
        "p3 = uniform.cdf(-10)\n",
        "print('P(X < -10) = {}'.format(p3))"
      ],
      "execution_count": null,
      "outputs": [
        {
          "output_type": "stream",
          "text": [
            "P(-3 < X <= 3) = 0.6000000000000001\n",
            "P(X > 0) = 0.5\n",
            "P(X < -10) = 0.0\n"
          ],
          "name": "stdout"
        }
      ]
    }
  ]
}