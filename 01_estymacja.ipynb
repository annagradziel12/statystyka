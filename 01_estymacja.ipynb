{
  "nbformat": 4,
  "nbformat_minor": 0,
  "metadata": {
    "kernelspec": {
      "display_name": "Python 3",
      "language": "python",
      "name": "python3"
    },
    "language_info": {
      "codemirror_mode": {
        "name": "ipython",
        "version": 3
      },
      "file_extension": ".py",
      "mimetype": "text/x-python",
      "name": "python",
      "nbconvert_exporter": "python",
      "pygments_lexer": "ipython3",
      "version": "3.7.4"
    },
    "colab": {
      "name": "01_estymacja.ipynb",
      "provenance": [],
      "include_colab_link": true
    }
  },
  "cells": [
    {
      "cell_type": "markdown",
      "metadata": {
        "id": "view-in-github",
        "colab_type": "text"
      },
      "source": [
        "<a href=\"https://colab.research.google.com/github/annagradziel12/statystyka/blob/master/01_estymacja.ipynb\" target=\"_parent\"><img src=\"https://colab.research.google.com/assets/colab-badge.svg\" alt=\"Open In Colab\"/></a>"
      ]
    },
    {
      "cell_type": "code",
      "metadata": {
        "id": "_OLFZfCd6gbU",
        "colab_type": "code",
        "colab": {}
      },
      "source": [
        "import numpy as np\n",
        "import pandas as pd\n",
        "import matplotlib.pyplot as plt\n",
        "from scipy import stats"
      ],
      "execution_count": null,
      "outputs": []
    },
    {
      "cell_type": "markdown",
      "metadata": {
        "id": "zp5y4h_P6gbc",
        "colab_type": "text"
      },
      "source": [
        "## Zadanie - estymatory\n",
        "Sprawdź symulacyjnie nieobciążoność estymatorów wariancji dla\n",
        "\\begin{equation*}\n",
        "    \\hat{\\sigma}^2 = S^2 = \\frac{1}{n-1}\\sum_{i=1}^n(X_i-\\overline{X})^2,\n",
        "\\end{equation*}\n",
        "oraz\n",
        "\\begin{equation*}\n",
        "    \\hat{\\sigma}^2 = S_n^2 = \\frac{1}{n}\\sum_{i=1}^n(X_i-\\overline{X})^2.\n",
        "\\end{equation*}\n",
        "\n",
        "1. Wygeneruj próbkę $n$-elementową z wybranego rozkładu.\n",
        "2. Policz dla wygenerowanej próbki $S^2$ oraz $S_n^2$.\n",
        "3. Powtórz kroki 1-2 $N$ razy, np. $N=1000$.\n",
        "4. Policz średnią z wygenerowanych $N$ razy wartości wariancji dla obu estymatorów.\n",
        "4. Powtórz kroki 1-4 dla róznych liczności $n$, np. dla $n\\in[5, 100]$.\n",
        "5. Narysuj wykres zależności wyestymowanej wartości wariancji dla obu estymatorów w zależności od liczności próbki.\n",
        "6. Powtórz kroki 1-6 dla innej rodziny rozkładów."
      ]
    },
    {
      "cell_type": "code",
      "metadata": {
        "id": "8zxyQZMk6gbd",
        "colab_type": "code",
        "colab": {}
      },
      "source": [
        "#### rozkład normalny ####"
      ],
      "execution_count": null,
      "outputs": []
    },
    {
      "cell_type": "code",
      "metadata": {
        "id": "npZm3ztj6gbj",
        "colab_type": "code",
        "colab": {}
      },
      "source": [
        "N = 1000\n",
        "\n",
        "n_vec = np.arange(5, 100, 1)\n",
        "var0, var1 = np.zeros(len(n_vec)), np.zeros(len(n_vec))\n",
        "for i, n in enumerate(n_vec):\n",
        "    var0_vec, var1_vec = np.zeros(N), np.zeros(N)\n",
        "    for j in np.arange(N):\n",
        "        x = stats.norm.rvs(size=n, loc=5, scale=1)\n",
        "        var0_vec[j] = np.var(x, ddof=0)\n",
        "        var1_vec[j] = np.var(x, ddof=1)\n",
        "    var0[i] = var0_vec.mean()\n",
        "    var1[i] = var1_vec.mean()"
      ],
      "execution_count": null,
      "outputs": []
    },
    {
      "cell_type": "code",
      "metadata": {
        "scrolled": true,
        "id": "nZy2fVHG6gbp",
        "colab_type": "code",
        "colab": {},
        "outputId": "d346e6b3-a719-4a02-b156-95cd624d0e41"
      },
      "source": [
        "plt.plot(var0, label=\"$S^2_n$\")\n",
        "plt.plot(var1, label=\"$S^2$\")\n",
        "plt.xticks(ticks=np.arange(0, len(n_vec) + 5, 5), labels=np.arange(5, 105, 5))\n",
        "plt.hlines(xmin=0, xmax=100, y=1, linestyles='--')\n",
        "plt.legend()\n",
        "plt.show()"
      ],
      "execution_count": null,
      "outputs": [
        {
          "output_type": "display_data",
          "data": {
            "image/png": "[encoded data removed]",
            "text/plain": [
              "<Figure size 432x288 with 1 Axes>"
            ]
          },
          "metadata": {
            "tags": [],
            "needs_background": "light"
          }
        }
      ]
    },
    {
      "cell_type": "code",
      "metadata": {
        "id": "9KQ2qWaY6gbw",
        "colab_type": "code",
        "colab": {}
      },
      "source": [
        "#### rozklad wykladniczy ####"
      ],
      "execution_count": null,
      "outputs": []
    },
    {
      "cell_type": "code",
      "metadata": {
        "id": "ncRTa2396gb0",
        "colab_type": "code",
        "colab": {}
      },
      "source": [
        "n_vec = np.arange(5, 100, 1)\n",
        "lam = 2\n",
        "var0, var1 = np.zeros(len(n_vec)), np.zeros(len(n_vec))\n",
        "for i, n in enumerate(n_vec):\n",
        "    var0_vec, var1_vec = np.zeros(N), np.zeros(N)\n",
        "    for j in np.arange(N):\n",
        "        x = stats.expon.rvs(size=n, scale=1/lam)\n",
        "        var0_vec[j] = np.var(x, ddof=0)\n",
        "        var1_vec[j] = np.var(x, ddof=1)\n",
        "    var0[i] = var0_vec.mean()\n",
        "    var1[i] = var1_vec.mean()"
      ],
      "execution_count": null,
      "outputs": []
    },
    {
      "cell_type": "code",
      "metadata": {
        "id": "l4C4eKJG6gb3",
        "colab_type": "code",
        "colab": {},
        "outputId": "f903aa78-8f69-43b3-c616-3464dc242400"
      },
      "source": [
        "plt.plot(var0, label=\"$S^2_n$\")\n",
        "plt.plot(var1, label=\"$S^2$\")\n",
        "plt.xticks(ticks=np.arange(0, len(n_vec) + 5, 5), labels=np.arange(5, 105, 5))\n",
        "plt.hlines(xmin=0, xmax=100, y=1/(lam ** 2), linestyles='--')\n",
        "plt.legend()\n",
        "plt.show()"
      ],
      "execution_count": null,
      "outputs": [
        {
          "output_type": "display_data",
          "data": {
            "image/png": "[encoded data removed]",
            "text/plain": [
              "<Figure size 432x288 with 1 Axes>"
            ]
          },
          "metadata": {
            "tags": [],
            "needs_background": "light"
          }
        }
      ]
    },
    {
      "cell_type": "markdown",
      "metadata": {
        "id": "CED_d9Yq6gb9",
        "colab_type": "text"
      },
      "source": [
        "# Estymacja punktowa "
      ]
    },
    {
      "cell_type": "markdown",
      "metadata": {
        "id": "F0XYZoNg6gb-",
        "colab_type": "text"
      },
      "source": [
        "### Zadania\n",
        "1. Niech $X_1, \\ldots, X_n$ będzie próbą losową z rozkładu gamma $\\Gamma(\\alpha, \\beta)$, gdzie $\\alpha, \\beta>0$. Stosując metodę momentów wyznaczyć estymatory parametrów $\\alpha$ i $\\beta$.\n",
        "\n",
        "**Wskazówka**: Pokaż, że $S_n^2 = \\frac{1}{n}\\sum_{i=1}^n X_i^2 - \\overline{X}^2 = M_2 - M_1^2$.\n",
        "\n",
        "2. Niech $X_1, \\ldots, X_n$ będzie próbą losową z rozkładu wykładniczego $\\text{Exp}(\\lambda)$, gdzie $\\lambda>0$. Stosując metodę największej wiarogodności wyznaczyć estymator parametru $\\lambda$.\n",
        "\n",
        "\n",
        "3. W celu oszacowania niezawodności pewnego urządzenia dokonano 10 pomiarów czasu bezawaryjnej pracy tego urządzenia i otrzymano następujące wyniki (w godzinach): 1119,  627,  790,  626, 1477, 1470, 1466, 1027, 1480,  904. Zakładamy, że czas bezawaryjnej pracy tego urządzenia ma rozkład wykładniczy.\n",
        "    a) Znaleźć estymator funkcji niezawodności tego urządzenia.\n",
        "    b) Jakie jest prawdopodobieństwo, że dane urządzenie nie ulegnie awarii w ciągu 900 godzin pracy?\n",
        "    \n",
        "**Wskazówka**: Funkcja niezawodności: $S(x)=1-F(x)=P(X>x)$."
      ]
    },
    {
      "cell_type": "markdown",
      "metadata": {
        "id": "SQL7CH3f6gb-",
        "colab_type": "text"
      },
      "source": [
        "## Zadanie 1\n",
        "\n",
        "1. Pokażemy, że $S_n^2 = \\frac{1}{n}\\sum_{i=1}^n X_i^2 - \\overline{X}^2$:\n",
        "\n",
        "\\begin{equation*}\n",
        "    \\begin{split}\n",
        "        S^2_n &= \\frac{1}{n} \\sum_{i=1}^n (X_i - \\overline(X))^2 \\\\\n",
        "        &= \\frac{1}{n} \\sum_{i=1}^n (X_i^2 - 2X_i\\overline{X} + \\overline{X}^2) \\\\\n",
        "        &=  \\frac{1}{n} \\sum_{i=1}^n X_i^2 -  2\\overline{X} \\cdot \\frac{1}{n} \\sum_{i=1}^n X_i + \\frac{1}{n} \\sum_{i=1}^n \\overline{X}^2\\\\\n",
        "        &= \\frac{1}{n} \\sum_{i=1}^n X_i^2 -2\\overline{X}^2 + \\frac{1}{n}  \\cdot n \\overline{X}^2\\\\\n",
        "        &=  \\frac{1}{n} \\sum_{i=1}^n X_i^2 -\\overline{X}^2\n",
        "    \\end{split}\n",
        "\\end{equation*}\n",
        "\n",
        "2. Wyznaczymy estymatory parametrów $\\alpha$ i $\\beta$, wiemy, że jeśli $X\\sim \\Gamma(\\alpha, \\beta)$, to\n",
        "\n",
        "\\begin{equation*}\n",
        "    \\mathbb{E}X = \\frac{\\alpha}{\\beta}, \\quad \\text{Var}(X) = \\frac{\\alpha}{\\beta^2}.\n",
        "\\end{equation*}\n",
        "\n",
        "Otrzymujemy\n",
        "\\begin{equation*}\n",
        "    \\alpha = \\mathbb{E}X\\cdot\\beta, \\quad \\alpha = \\text{Var}(X)\\cdot\\beta^2 = (\\mathbb{E}X^2 - (\\mathbb{E}X)^2)\\cdot\\beta,\n",
        "\\end{equation*}\n",
        "stąd\n",
        "\\begin{equation*}\n",
        "    \\begin{split}\n",
        "    \\beta &= \\frac{\\mathbb{E}X}{\\mathbb{E}X^2 - (\\mathbb{E}X)^2},\\\\\n",
        "    \\alpha &= \\frac{(\\mathbb{E}X)^2}{\\mathbb{E}X^2 - (\\mathbb{E}X)^2}.\n",
        "    \\end{split}\n",
        "\\end{equation*}\n",
        "\n",
        "Estymator metody momentów ma postać:\n",
        "\\begin{equation*}\n",
        "    \\begin{split}\n",
        "    \\beta &= \\frac{M_1}{M_2 - M_1^2} = \\frac{\\overline{X}}{S^2_n},\\\\\n",
        "    \\alpha &= \\frac{M_1^2}{M_2 - M_1^2} = \\frac{\\overline{X}^2}{S^2_n}.\n",
        "    \\end{split}\n",
        "\\end{equation*}\n"
      ]
    },
    {
      "cell_type": "markdown",
      "metadata": {
        "id": "coPmuYzX6gb_",
        "colab_type": "text"
      },
      "source": [
        "## Zadanie 2\n",
        "\n",
        "$X_i \\sim \\text{Exp}(\\lambda), \\text{ iid}$ oraz gęstość ma postać $f(x) = \\lambda \\exp({-\\lambda x})$.\n",
        "\n",
        "1. znaleźć funkcję wiarogodności $L$:\n",
        "$$\n",
        "L(x_1, \\ldots, x_n, \\lambda) = f_{\\lambda}(x_1)\\cdot\\ldots\\cdot f_{\\lambda}(x_n) = \\lambda \\exp({-\\lambda x_1})\\cdot\\ldots\\cdot \\lambda \\exp({-\\lambda x_n}) = \\lambda^n \\exp({-\\lambda \\sum_{i=1}^n x_i}).\n",
        "$$\n",
        "\n",
        "2. znaleźć $\\ln{L}$:\n",
        "$$\n",
        "ln(L) = n \\ln{\\lambda} - \\lambda \\sum_{i=1}^n x_i.\n",
        "$$ \n",
        "\n",
        "3. obliczyć pochodną cząstkową: $\\frac{\\partial}{\\partial\\lambda}\\ln{L}$:\n",
        "$$\n",
        "\\frac{\\partial}{\\partial\\lambda}\\ln{L} = \\frac{n}{\\lambda} - \\sum_{i=1}^n x_i.\n",
        "$$\n",
        "\n",
        "4. znaleźć rozwiązanie $\\theta_0$ równania $\\frac{\\partial}{\\partial\\lambda}\\ln{L}=0$:\n",
        "$$\n",
        "\\frac{n}{\\lambda} - \\sum_{i=1}^n x_i = 0 \\implies \\lambda_0 = \\frac{n}{\\sum_{i=1}^n x_i} = \\frac{1}{\\overline{x}}.\n",
        "$$\n",
        "\n",
        "5. sprawdzi, czy w $\\theta_0$, funkcja $\\ln{L}$ osiąga maksimum:\n",
        "$$\n",
        " \\frac{\\partial^2}{\\partial\\lambda^2}\\ln{L}\\Bigg|_{\\lambda=\\lambda_0} = -\\frac{n}{\\lambda^2} < 0.\n",
        "$$\n",
        "\n",
        "Zatem estymatorem największej wiarogodności parametru $\\lambda$ jest: \n",
        "$$\n",
        "\\hat{\\lambda} = \\frac{1}{\\overline{X}}.\n",
        "$$"
      ]
    },
    {
      "cell_type": "code",
      "metadata": {
        "id": "yO0ZqfyX6gb_",
        "colab_type": "code",
        "colab": {},
        "outputId": "c4170402-707e-454a-bfdb-36849ad870a2"
      },
      "source": [
        "# Zadanie 3\n",
        "\n",
        "# F(x) = 1 - exp(-lambda * x) ====> S(x) = exp(-lambda * x)\n",
        "# Jaki jest estymator NW parametru lambda?\n",
        "# lambda_hat = 1/x_mean\n",
        "\n",
        "x = [1119, 627, 790, 626, 1477, 1470, 1466, 1027, 1480, 904]\n",
        "lambda_hat = 1/np.mean(x)\n",
        "print(\"Oszacowana wartość parametru lamba na podstawie metody NW: {}\".format(lambda_hat))\n",
        "\n",
        "#P(X>900)=S(900)\n",
        "print(1 - stats.expon.cdf(900, scale=1/lambda_hat))\n",
        "\n",
        "prob = np.exp(-900*lambda_hat)\n",
        "print(\"Prawdopodobieństwo, że dane urządzenie nie ulegnie awarii w ciagu 900 godzin pracy: P(X>900)={}\".format(np.round(prob, 4)))"
      ],
      "execution_count": null,
      "outputs": [
        {
          "output_type": "stream",
          "text": [
            "Oszacowana wartość parametru lamba na podstawie metody NW: 0.0009102494083378847\n",
            "0.4407733560494924\n",
            "Prawdopodobieństwo, że dane urządzenie nie ulegnie awarii w ciagu 900 godzin pracy: P(X>900)=0.4408\n"
          ],
          "name": "stdout"
        }
      ]
    }
  ]
}