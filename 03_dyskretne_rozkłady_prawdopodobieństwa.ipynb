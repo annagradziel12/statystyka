{
  "nbformat": 4,
  "nbformat_minor": 0,
  "metadata": {
    "kernelspec": {
      "display_name": "Python 3",
      "language": "python",
      "name": "python3"
    },
    "language_info": {
      "codemirror_mode": {
        "name": "ipython",
        "version": 3
      },
      "file_extension": ".py",
      "mimetype": "text/x-python",
      "name": "python",
      "nbconvert_exporter": "python",
      "pygments_lexer": "ipython3",
      "version": "3.7.4"
    },
    "colab": {
      "name": "03_dyskretne_rozkłady_prawdopodobieństwa.ipynb",
      "provenance": [],
      "include_colab_link": true
    }
  },
  "cells": [
    {
      "cell_type": "markdown",
      "metadata": {
        "id": "view-in-github",
        "colab_type": "text"
      },
      "source": [
        "<a href=\"https://colab.research.google.com/github/annagradziel12/statystyka/blob/master/03_dyskretne_rozk%C5%82ady_prawdopodobie%C5%84stwa.ipynb\" target=\"_parent\"><img src=\"https://colab.research.google.com/assets/colab-badge.svg\" alt=\"Open In Colab\"/></a>"
      ]
    },
    {
      "cell_type": "markdown",
      "metadata": {
        "id": "TjLW6RTp2eoI",
        "colab_type": "text"
      },
      "source": [
        "# Rozkłady dyskretne\n",
        "1. Rozkład dwupunktowy\n",
        "2. Rozkład dwumianowy"
      ]
    },
    {
      "cell_type": "code",
      "metadata": {
        "id": "CJpGRidr2eoK",
        "colab_type": "code",
        "colab": {}
      },
      "source": [
        "import numpy as np\n",
        "import matplotlib.pyplot as plt\n",
        "\n",
        "from scipy import stats"
      ],
      "execution_count": null,
      "outputs": []
    },
    {
      "cell_type": "markdown",
      "metadata": {
        "id": "w3Mr02-O2eoS",
        "colab_type": "text"
      },
      "source": [
        "### Zadanie\n",
        "Dla rozkładu dwupunktowego i dwumianowego:\n",
        "1. Zdefiniuj zmienną losową dla tego rozkładu prawdopobieństtwa.\n",
        "2. Narysuj funkcję rozkładu prawdopodobieństwa.\n",
        "3. Narysuj dystrybuantę.\n",
        "4. Wyznacz podstawowe charakterystyki rozkładu: średnia, wariancja, odchylenie standardowe.\n",
        "5. Wylosuj $n$ obserwacji z zdefiniowanego rozkładu.\n",
        "6. Narysujmy histogram dla wylosowanej powyżej próbki.\n",
        "7. Porównaj teoretyczną i zaaobserwowaną funkcję rozkładu prawdopobieństwa."
      ]
    },
    {
      "cell_type": "markdown",
      "metadata": {
        "id": "xl4FvVV42eoT",
        "colab_type": "text"
      },
      "source": [
        "### Rozkład dwupunktowy - $Bern(p)$\n",
        "\n",
        "Zmienna losowa $X$ ma **rozkład dwupunktowy** z parametrem $0 < p < 1$, jeżeli\n",
        "$$\n",
        "    P(X=1)=p, \\quad P(X=0)=1-p.\n",
        "$$\n",
        "\n",
        "Zmienna losowa $X$ opisuje pojedyncze doświadczenie, o którym można myśleć w kategorii ,,sukces--porażka'': \n",
        "- zmienna przyjmuje wartość 1 z prawdopodobieństwem $p$, jeżeli w danym doświadczeniu zaistniał **,,sukces''**, oraz\n",
        "- zmienna przyjmuje wartość 0 z prawdopodobieństwem $1-p$, jeżeli w doświadczeniu zainstniała **,,porażka''**."
      ]
    },
    {
      "cell_type": "markdown",
      "metadata": {
        "id": "6WDASD3c2eoU",
        "colab_type": "text"
      },
      "source": [
        "https://docs.scipy.org/doc/scipy-0.14.0/reference/generated/scipy.stats.bernoulli.html\n",
        "\n",
        "#### Wybrane metody\n",
        "\n",
        "`rvs(p, loc=0, size=1)` \tRandom variates.\n",
        "\n",
        "`pmf(x, p, loc=0)` \tProbability mass function.\n",
        "\n",
        "`cdf(x, p, loc=0)` \tCumulative density function.\n",
        "\n",
        "`sf(x, p, loc=0)` \tSurvival function (1-cdf — sometimes more accurate).\n",
        "\n",
        "`ppf(q, p, loc=0)` \tPercent point function (inverse of cdf — percentiles).\n",
        "\n",
        "`stats(p, loc=0, moments=’mv’)` \tMean(‘m’), variance(‘v’), skew(‘s’), and/or kurtosis(‘k’).\n",
        "\n",
        "`median(p, loc=0)` \tMedian of the distribution.\n",
        "\n",
        "`mean(p, loc=0)` \tMean of the distribution.\n",
        "\n",
        "`var(p, loc=0)` \tVariance of the distribution.\n",
        "\n",
        "`std(p, loc=0)` \tStandard deviation of the distribution."
      ]
    },
    {
      "cell_type": "code",
      "metadata": {
        "id": "gTyuLj9O2eoV",
        "colab_type": "code",
        "colab": {},
        "outputId": "82d0d846-9049-4075-b16b-225596dfea24"
      },
      "source": [
        "# 1. Definiujemy zmienna losową\n",
        "p = 0.5 # prawdopodobieństwo sukcesu\n",
        "\n",
        "bern = stats.bernoulli(p=p)\n",
        "bern"
      ],
      "execution_count": null,
      "outputs": [
        {
          "output_type": "execute_result",
          "data": {
            "text/plain": [
              "<scipy.stats._distn_infrastructure.rv_frozen at 0x7f25009b3290>"
            ]
          },
          "metadata": {
            "tags": []
          },
          "execution_count": 2
        }
      ]
    },
    {
      "cell_type": "code",
      "metadata": {
        "id": "3KDfR-6x2eoc",
        "colab_type": "code",
        "colab": {},
        "outputId": "c869f5e0-e1cd-4cba-c18a-9a25bd6569ab"
      },
      "source": [
        "# 2. Funkcja rozkładu prawdopodobieństwa (dla przypadku dyskretnego) = pmf = probability mass function\n",
        "\n",
        "# bernoulli.pmf(k) = p    if k = 1 \n",
        "#                  = 1-p  if k = 0\n",
        "\n",
        "print(bern.pmf(0))\n",
        "print(bern.pmf(1))"
      ],
      "execution_count": null,
      "outputs": [
        {
          "output_type": "stream",
          "text": [
            "0.5\n",
            "0.5\n"
          ],
          "name": "stdout"
        }
      ]
    },
    {
      "cell_type": "code",
      "metadata": {
        "id": "I96-2xgc2eoi",
        "colab_type": "code",
        "colab": {},
        "outputId": "8f2a9d92-803b-4c7d-9169-50a46ebc07ce"
      },
      "source": [
        "fig, ax = plt.subplots(1, 1)\n",
        "ax.set_xlim([-.5, 1.5])\n",
        "ax.set_ylim([0, 1])\n",
        "\n",
        "x_value = [0, 1]\n",
        "ax.plot(x_value, bern.pmf(x_value), 'go', ms=10, label='theoretical bernoulli pmf')\n",
        "ax.vlines(x_value, 0, bern.pmf(x_value), colors='g', lw=3, alpha=0.5)"
      ],
      "execution_count": null,
      "outputs": [
        {
          "output_type": "execute_result",
          "data": {
            "text/plain": [
              "<matplotlib.collections.LineCollection at 0x7f3d5df69a50>"
            ]
          },
          "metadata": {
            "tags": []
          },
          "execution_count": 6
        },
        {
          "output_type": "display_data",
          "data": {
            "image/png": "[encoded data removed]",
            "text/plain": [
              "<Figure size 432x288 with 1 Axes>"
            ]
          },
          "metadata": {
            "tags": [],
            "needs_background": "light"
          }
        }
      ]
    },
    {
      "cell_type": "code",
      "metadata": {
        "id": "rYSwAN_22eon",
        "colab_type": "code",
        "colab": {},
        "outputId": "af96f622-3b13-4e3e-bc7e-85d3da2beb42"
      },
      "source": [
        "# 3. cdf = Cumulative density function = dystrybuanta\n",
        "fig, ax = plt.subplots(1, 1)\n",
        "\n",
        "ax.set_xlim([-10, 10])\n",
        "ax.set_ylim([-0.2, 1.2])\n",
        "\n",
        "x = np.arange(-10, 10, 0.01)\n",
        "ax.plot(x, bern.cdf(x), 'go--', ms=3, label='bernoulli cdf')\n",
        "ax.axhline(xmin=-5, xmax=5, y=0, color='black', alpha=0.5, linestyle='--')\n",
        "ax.axhline(xmin=-5, xmax=5, y=0.5, color='black', alpha=0.5, linestyle='--')\n",
        "ax.axhline(xmin=-5, xmax=5, y=1, color='black', alpha=0.5, linestyle='--')\n",
        "plt.show()"
      ],
      "execution_count": null,
      "outputs": [
        {
          "output_type": "display_data",
          "data": {
            "image/png": "[encoded data removed]",
            "text/plain": [
              "<Figure size 432x288 with 1 Axes>"
            ]
          },
          "metadata": {
            "tags": [],
            "needs_background": "light"
          }
        }
      ]
    },
    {
      "cell_type": "code",
      "metadata": {
        "id": "sTgYoYPZ2eor",
        "colab_type": "code",
        "colab": {},
        "outputId": "7cfba3c0-83b2-4c04-96a4-e2f0710f5127"
      },
      "source": [
        "# 4.  Charakterystyki rozkładu\n",
        "# Mean(‘m’), variance(‘v’), skew(‘s’), and/or kurtosis(‘k’).\n",
        "bern.stats('mvsk')"
      ],
      "execution_count": null,
      "outputs": [
        {
          "output_type": "execute_result",
          "data": {
            "text/plain": [
              "(array(0.5), array(0.25), array(0.), array(-2.))"
            ]
          },
          "metadata": {
            "tags": []
          },
          "execution_count": 8
        }
      ]
    },
    {
      "cell_type": "code",
      "metadata": {
        "id": "D1ozoyi12eov",
        "colab_type": "code",
        "colab": {},
        "outputId": "05f8eb04-6039-44b8-daf3-05d0747d3f86"
      },
      "source": [
        "# 5. możemy wylosować n(=100) wartości z tego rozkładu\n",
        "bern.rvs(size=100)"
      ],
      "execution_count": null,
      "outputs": [
        {
          "output_type": "execute_result",
          "data": {
            "text/plain": [
              "array([0, 0, 1, 1, 0, 1, 1, 0, 1, 0, 0, 1, 1, 0, 0, 0, 0, 0, 0, 1, 0, 1,\n",
              "       0, 1, 0, 1, 1, 1, 1, 1, 0, 0, 1, 1, 0, 0, 0, 1, 0, 1, 1, 0, 0, 0,\n",
              "       1, 1, 0, 0, 1, 1, 1, 0, 1, 0, 1, 1, 0, 1, 1, 0, 0, 0, 1, 0, 1, 1,\n",
              "       1, 0, 0, 1, 0, 1, 1, 0, 1, 1, 0, 1, 1, 1, 0, 1, 0, 1, 1, 1, 1, 1,\n",
              "       1, 0, 0, 1, 1, 1, 1, 0, 0, 0, 0, 0])"
            ]
          },
          "metadata": {
            "tags": []
          },
          "execution_count": 9
        }
      ]
    },
    {
      "cell_type": "code",
      "metadata": {
        "scrolled": true,
        "id": "PK2OGY7L2eoy",
        "colab_type": "code",
        "colab": {},
        "outputId": "6b3f8cb7-b554-48cb-b0c1-975633deb28d"
      },
      "source": [
        "# 6. narysujmy histogram dla wylosowanej $n$-elementowej próbki\n",
        "x = bern.rvs(size=100)\n",
        "plt.hist(x)"
      ],
      "execution_count": null,
      "outputs": [
        {
          "output_type": "execute_result",
          "data": {
            "text/plain": [
              "(array([53.,  0.,  0.,  0.,  0.,  0.,  0.,  0.,  0., 47.]),\n",
              " array([0. , 0.1, 0.2, 0.3, 0.4, 0.5, 0.6, 0.7, 0.8, 0.9, 1. ]),\n",
              " <a list of 10 Patch objects>)"
            ]
          },
          "metadata": {
            "tags": []
          },
          "execution_count": 10
        },
        {
          "output_type": "display_data",
          "data": {
            "image/png": "[encoded data removed]",
            "text/plain": [
              "<Figure size 432x288 with 1 Axes>"
            ]
          },
          "metadata": {
            "tags": [],
            "needs_background": "light"
          }
        }
      ]
    },
    {
      "cell_type": "code",
      "metadata": {
        "id": "qCf2kFHB2eo1",
        "colab_type": "code",
        "colab": {},
        "outputId": "de747482-3909-46e3-b538-96a31ce3725a"
      },
      "source": [
        "# 7. porównanie teoretycznej i zaobserwowanej funkcji rozkładu prawdopodobieństwa\n",
        "fig, ax = plt.subplots(1, 1)\n",
        "ax.set_xlim([-.5, 1.5])\n",
        "ax.set_ylim([0, 1])\n",
        "\n",
        "x_value = np.array([0, 1])\n",
        "unique, counts = np.unique(x, return_counts=True)\n",
        "y_obs = np.array(counts/x.size)\n",
        "\n",
        "ax.plot(x_value, bern.pmf(x_value), 'go', ms=10, label='theoretical bernoulli pmf')\n",
        "ax.vlines(x_value, 0, bern.pmf(x_value), colors='g', lw=3, alpha=0.5)\n",
        "\n",
        "ax.plot(x_value, y_obs, 'ro', ms=10, label='observed bernoulli pmf')\n",
        "ax.vlines(x_value, 0, y_obs, colors='r', lw=3, alpha=0.5)\n",
        "\n",
        "plt.legend()\n",
        "plt.show()"
      ],
      "execution_count": null,
      "outputs": [
        {
          "output_type": "display_data",
          "data": {
            "image/png": "[encoded data removed]",
            "text/plain": [
              "<Figure size 432x288 with 1 Axes>"
            ]
          },
          "metadata": {
            "tags": [],
            "needs_background": "light"
          }
        }
      ]
    },
    {
      "cell_type": "markdown",
      "metadata": {
        "id": "F9TucXfG2eo3",
        "colab_type": "text"
      },
      "source": [
        "### Rozkład dwumianowy - $Bin(n, p)$\n",
        "Zmienna losowa $X$ ma **rozkład dwumianowy** z parametrami $0<p<1$ oraz $n\\in\\mathbb{N}$, jeżeli\n",
        "$$\n",
        "    P(X=k)=\\binom{n}{k}p^k(1-p)^{n-k} \\quad \\text{dla} \\quad k=0,1,\\ldots,n.\n",
        "$$\n",
        "\n",
        "Zmienna losowa $X$ przyjmuje wartości równe liczbie ,,sukcesów'' w~$n$~niezależnych doświadczeniach z prawdopodobieństwem sukcesu $p$ w każdym z~nich. \n",
        "\n",
        "W szczególności zmienną $X$ możemy przedstawić jako $$X=S_n=\\sum_{i=1}^n X_i,$$ gdzie $X_i \\sim \\text{Bern}(p)$ oraz $(X_i)_{i=1}^n$ są wzajemnie niezależne.\n"
      ]
    },
    {
      "cell_type": "markdown",
      "metadata": {
        "id": "Mj4fvMWm2eo3",
        "colab_type": "text"
      },
      "source": [
        "https://docs.scipy.org/doc/scipy-0.14.0/reference/generated/scipy.stats.binom.html"
      ]
    },
    {
      "cell_type": "code",
      "metadata": {
        "id": "FIuxTHtr2eo4",
        "colab_type": "code",
        "colab": {}
      },
      "source": [
        "# 1. Definicja\n",
        "n, p = 6, 0.5\n",
        "binom = stats.binom(n=n, p=p)"
      ],
      "execution_count": null,
      "outputs": []
    },
    {
      "cell_type": "code",
      "metadata": {
        "id": "yXvu5JOR2eo6",
        "colab_type": "code",
        "colab": {},
        "outputId": "9a5d312d-5e78-46aa-e1ac-888449527099"
      },
      "source": [
        "# Funkcja rozkładu prawdopodbieństwa\n",
        "fig, ax = plt.subplots(1, 1)\n",
        "ax.set_xlim([-.5, 6.5])\n",
        "ax.set_ylim([0, 1])\n",
        "\n",
        "x_value = np.arange(0, 7)\n",
        "ax.plot(x_value, binom.pmf(x_value), 'go', ms=10, label='theoretical bernoulli pmf')\n",
        "ax.vlines(x_value, 0, binom.pmf(x_value), colors='g', lw=3, alpha=0.5)"
      ],
      "execution_count": null,
      "outputs": [
        {
          "output_type": "execute_result",
          "data": {
            "text/plain": [
              "<matplotlib.collections.LineCollection at 0x7f3d5dbc8e10>"
            ]
          },
          "metadata": {
            "tags": []
          },
          "execution_count": 16
        },
        {
          "output_type": "display_data",
          "data": {
            "image/png": "[encoded data removed]",
            "text/plain": [
              "<Figure size 432x288 with 1 Axes>"
            ]
          },
          "metadata": {
            "tags": [],
            "needs_background": "light"
          }
        }
      ]
    },
    {
      "cell_type": "code",
      "metadata": {
        "id": "XHwRD8Xo2eo8",
        "colab_type": "code",
        "colab": {},
        "outputId": "928991e7-a407-43d1-cedf-a0f0d6a72ecf"
      },
      "source": [
        "# 3. Dystrybuanta\n",
        "fig, ax = plt.subplots(1, 1)\n",
        "\n",
        "ax.set_xlim([-10, 10])\n",
        "ax.set_ylim([-0.2, 1.2])\n",
        "\n",
        "x = np.arange(-10, 10, 0.001)\n",
        "ax.plot(x, binom.cdf(x), 'go--', ms=1, label='bernoulli cdf')\n",
        "plt.show()"
      ],
      "execution_count": null,
      "outputs": [
        {
          "output_type": "display_data",
          "data": {
            "image/png": "[encoded data removed]",
            "text/plain": [
              "<Figure size 432x288 with 1 Axes>"
            ]
          },
          "metadata": {
            "tags": [],
            "needs_background": "light"
          }
        }
      ]
    },
    {
      "cell_type": "code",
      "metadata": {
        "id": "T6MC2lDi2eo-",
        "colab_type": "code",
        "colab": {},
        "outputId": "b932164e-93e7-4c79-d2d6-b7b87c7bb882"
      },
      "source": [
        "# 4. Charakterystyki rozkładu\n",
        "binom.stats('mv')"
      ],
      "execution_count": null,
      "outputs": [
        {
          "output_type": "execute_result",
          "data": {
            "text/plain": [
              "(array(3.), array(1.5))"
            ]
          },
          "metadata": {
            "tags": []
          },
          "execution_count": 18
        }
      ]
    },
    {
      "cell_type": "code",
      "metadata": {
        "id": "TCfhO_zK2epA",
        "colab_type": "code",
        "colab": {},
        "outputId": "3536123b-7933-4bb4-e00f-6405e608611b"
      },
      "source": [
        "# 5. Próbka z rozkładu dwumianowego\n",
        "x = binom.rvs(size=100)\n",
        "np.unique(x)"
      ],
      "execution_count": null,
      "outputs": [
        {
          "output_type": "execute_result",
          "data": {
            "text/plain": [
              "array([1, 2, 3, 4, 5, 6])"
            ]
          },
          "metadata": {
            "tags": []
          },
          "execution_count": 19
        }
      ]
    },
    {
      "cell_type": "code",
      "metadata": {
        "id": "AwY_Cmhj2epC",
        "colab_type": "code",
        "colab": {},
        "outputId": "ade4cfbe-d786-44c1-dd12-9e2326775943"
      },
      "source": [
        "# 6. Histogram\n",
        "plt.hist(x, bins=[0, 1, 2, 3, 4, 5, 6, 7]) \n",
        "# then the first bin is [1, 2) (including 1, but excluding 2) and the second [2, 3). The last bin, however, is [3, 4], which includes 4.\n",
        "plt.show()"
      ],
      "execution_count": null,
      "outputs": [
        {
          "output_type": "display_data",
          "data": {
            "image/png": "[encoded data removed]",
            "text/plain": [
              "<Figure size 432x288 with 1 Axes>"
            ]
          },
          "metadata": {
            "tags": [],
            "needs_background": "light"
          }
        }
      ]
    },
    {
      "cell_type": "markdown",
      "metadata": {
        "id": "EEojG5ki2epE",
        "colab_type": "text"
      },
      "source": [
        "### Zadania - dodatkowe"
      ]
    },
    {
      "cell_type": "markdown",
      "metadata": {
        "id": "2NUQ9V7Z2epF",
        "colab_type": "text"
      },
      "source": [
        "1. Oblicz prawdopodobieństwo $P(X=5)$, pod warunkiem, że zmienna losowa X ma rozkład dwumianowy z parametrami $n=10$ i $p=0.7$?\n",
        "\n",
        "**Wskazówka**: $$P(X=x_0)=F(x_0)-F(x_0^-),$$gdzie $F(x_0^-)$ oznacza granicę lewostronną dystrybuanty $F$ w punkcie $x_0$."
      ]
    },
    {
      "cell_type": "code",
      "metadata": {
        "id": "RCqzgtXt2epF",
        "colab_type": "code",
        "colab": {},
        "outputId": "6aa964f4-46b1-4bd5-f86e-d32f9678e41b"
      },
      "source": [
        "# 1.\n",
        "binom10_07 = stats.binom(n=10, p=.7)\n",
        "\n",
        "# P(X=k) = CDF(k) - CDF(k-)\n",
        "binom10_07.cdf(5) - binom10_07.cdf(5-10e-16)"
      ],
      "execution_count": null,
      "outputs": [
        {
          "output_type": "execute_result",
          "data": {
            "text/plain": [
              "0.10291934520000004"
            ]
          },
          "metadata": {
            "tags": []
          },
          "execution_count": 22
        }
      ]
    },
    {
      "cell_type": "markdown",
      "metadata": {
        "id": "26w02cNf2epH",
        "colab_type": "text"
      },
      "source": [
        "2. Oblicz prawdopodobieństwo tego, że rzucając cztery razy kostką wyrzucimy trzy razy ,,trójkę''."
      ]
    },
    {
      "cell_type": "markdown",
      "metadata": {
        "id": "7EAKAVcg2epH",
        "colab_type": "text"
      },
      "source": [
        "**Analiza**:\n",
        "\n",
        "$X_i$ - zdarzenie, że w $i$-tym rzucie wyrzucimy ,,trójkę''\n",
        "\n",
        "$P(X_i=1)=\\frac{1}{6}$ - prawdopodobieństwo wyrzucenia ,,trójki'' (,,sukces'')\n",
        "\n",
        "$P(X_i=0)=\\frac{5}{6}$ - prawdopodbieństwo wyrzucenia innej liczby oczek, różnej od trzech (,,porażka'')\n",
        "\n",
        "$S_4=X_1+X_2+X_3+X_4$ - zdarzenie opisujące liczbę wyrzuconych ,,trójek'' w czterech rzutach\n",
        "\n",
        "$S_4\\sim \\text{Bin}(n=4, p=\\frac{1}{6})$ \n",
        "\n",
        "Jakie jest prawdopodbieństwo $P(S_4=3)$?"
      ]
    },
    {
      "cell_type": "code",
      "metadata": {
        "id": "_n4jVKE22epI",
        "colab_type": "code",
        "colab": {},
        "outputId": "3aa3e4a7-652b-433a-fdc6-b24634987d99"
      },
      "source": [
        "binom4_1_6 = stats.binom(n=4, p=1/6)\n",
        "\n",
        "# P(X=3)\n",
        "binom4_1_6.cdf(3) -  binom4_1_6.cdf(3-10e-16)"
      ],
      "execution_count": null,
      "outputs": [
        {
          "output_type": "execute_result",
          "data": {
            "text/plain": [
              "0.015432098765432167"
            ]
          },
          "metadata": {
            "tags": []
          },
          "execution_count": 23
        }
      ]
    },
    {
      "cell_type": "markdown",
      "metadata": {
        "id": "36SEAhxI2epK",
        "colab_type": "text"
      },
      "source": [
        "3. Szacuje się, że aż 70% Polaków posiada kartę kredytową. Jakie jest prawdopodobieństwo, że w losowej grupie 10 osób więcej niż cztery osóby będą posiadały kartę kredytową?\n",
        "\n",
        "**Wskazówka**: $P(X>k)=1-P(X\\leq k) = 1- F(k)$."
      ]
    },
    {
      "cell_type": "markdown",
      "metadata": {
        "id": "1z3Vs3Xc2epK",
        "colab_type": "text"
      },
      "source": [
        "$X_i$ - zdarzenie, że $i$-ty Polak posiada kartę kredytową;\n",
        "\n",
        "$P(X_i=1)=0.7$ - prawdopodobieństwo, że $i$-ty Polak posiada kartę kredytową;\n",
        "\n",
        "$P(X_i=0)=0.3$ - prawdopodobieństwo, że $i$-ty Polak nie posiada karty kredytowej;\n",
        "\n",
        "$S_{10} = X_1 + \\ldots + X_{10}$ - zdarzenie opisujące liczbę Polaków, którzy posiadają kartę kredytową w grupie losowo wybranych 10 Polaków;\n",
        "\n",
        "$S_{10} \\sim \\text{Bin}(n=10, p=0.7)$"
      ]
    },
    {
      "cell_type": "code",
      "metadata": {
        "id": "UHZTlXsD2epL",
        "colab_type": "code",
        "colab": {},
        "outputId": "6ac41662-9ff1-4938-fa63-73d9eb5fd660"
      },
      "source": [
        "# P(X > 4) = 1 - P(X <= 4) = F(4)\n",
        "\n",
        "binom10_07 = stats.binom(n=10, p=0.7)\n",
        "\n",
        "binom10_07.cdf(4)"
      ],
      "execution_count": null,
      "outputs": [
        {
          "output_type": "execute_result",
          "data": {
            "text/plain": [
              "0.04734898740000004"
            ]
          },
          "metadata": {
            "tags": []
          },
          "execution_count": 12
        }
      ]
    }
  ]
}