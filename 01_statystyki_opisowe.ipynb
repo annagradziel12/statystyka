{
  "nbformat": 4,
  "nbformat_minor": 0,
  "metadata": {
    "kernelspec": {
      "display_name": "Python 3",
      "language": "python",
      "name": "python3"
    },
    "language_info": {
      "codemirror_mode": {
        "name": "ipython",
        "version": 3
      },
      "file_extension": ".py",
      "mimetype": "text/x-python",
      "name": "python",
      "nbconvert_exporter": "python",
      "pygments_lexer": "ipython3",
      "version": "3.7.4"
    },
    "colab": {
      "name": "01_statystyki_opisowe.ipynb",
      "provenance": [],
      "include_colab_link": true
    }
  },
  "cells": [
    {
      "cell_type": "markdown",
      "metadata": {
        "id": "view-in-github",
        "colab_type": "text"
      },
      "source": [
        "<a href=\"https://colab.research.google.com/github/annagradziel12/statystyka/blob/master/01_statystyki_opisowe.ipynb\" target=\"_parent\"><img src=\"https://colab.research.google.com/assets/colab-badge.svg\" alt=\"Open In Colab\"/></a>"
      ]
    },
    {
      "cell_type": "markdown",
      "metadata": {
        "id": "bsOz8F-ny8nD",
        "colab_type": "text"
      },
      "source": [
        "# Statystyka opisowa"
      ]
    },
    {
      "cell_type": "code",
      "metadata": {
        "id": "cHDhIXG5y8nF",
        "colab_type": "code",
        "colab": {}
      },
      "source": [
        "import numpy as np\n",
        "import pandas as pd\n",
        "import matplotlib.pyplot as plt\n",
        "\n",
        "from scipy import stats"
      ],
      "execution_count": null,
      "outputs": []
    },
    {
      "cell_type": "markdown",
      "metadata": {
        "id": "jgOifuqAy8nM",
        "colab_type": "text"
      },
      "source": [
        "## Statystyki próbkowe i metody opisu danych jakościowych"
      ]
    },
    {
      "cell_type": "markdown",
      "metadata": {
        "id": "2eh7Uqe1y8nO",
        "colab_type": "text"
      },
      "source": [
        "## Zadanie - podstawowe statystyki\n",
        "Zaimplementować klasę `Stats`, która posiada metody do wyznaczenia:\n",
        "\n",
        "a) średniej arytmetycznej,\n",
        "b) mediany,\n",
        "c) wariancji,\n",
        "d) odchylenia standardowego\n",
        "\n",
        "\n",
        "dla dowolnej danych $X$."
      ]
    },
    {
      "cell_type": "code",
      "metadata": {
        "id": "R0SvHZD7y8nP",
        "colab_type": "code",
        "colab": {}
      },
      "source": [
        "?np.var"
      ],
      "execution_count": null,
      "outputs": []
    },
    {
      "cell_type": "code",
      "metadata": {
        "id": "xiqYSApry8nU",
        "colab_type": "code",
        "colab": {}
      },
      "source": [
        "class Stats:\n",
        "    \n",
        "    def __init__(self, vec):\n",
        "        self.vec = vec\n",
        "    \n",
        "    def mean(self):\n",
        "        return np.mean(self.vec)\n",
        "    \n",
        "    def median(self):\n",
        "        return np.median(self.vec)\n",
        "    \n",
        "    def var(self):\n",
        "        return np.var(self.vec, ddof=1)\n",
        "    # ``N - ddof``, where ``N`` represents the number of elements. By\n",
        "    # default `ddof` is zero.\n",
        "    \n",
        "    def std(self):\n",
        "        return np.std(self.vec, ddof=1)"
      ],
      "execution_count": null,
      "outputs": []
    },
    {
      "cell_type": "code",
      "metadata": {
        "id": "Mr2eyup7y8nZ",
        "colab_type": "code",
        "colab": {}
      },
      "source": [
        "a = [1, 2, 3, 4, 5, 6, 7, 8, 9, 10]\n",
        "\n",
        "stats2 = Stats(a)"
      ],
      "execution_count": null,
      "outputs": []
    },
    {
      "cell_type": "code",
      "metadata": {
        "id": "Kblz4bvzy8ne",
        "colab_type": "code",
        "colab": {},
        "outputId": "58efa498-c18f-4ce3-a9e3-87eeae28c050"
      },
      "source": [
        "print(stats2.mean())\n",
        "print(stats2.median())\n",
        "print(stats2.var())\n",
        "print(stats2.std())"
      ],
      "execution_count": null,
      "outputs": [
        {
          "output_type": "stream",
          "text": [
            "5.5\n",
            "5.5\n",
            "9.166666666666666\n",
            "3.0276503540974917\n"
          ],
          "name": "stdout"
        }
      ]
    },
    {
      "cell_type": "markdown",
      "metadata": {
        "id": "ATMEIofVy8nk",
        "colab_type": "text"
      },
      "source": [
        "## Zadanie - boxplot, szereg rozdzielczy, histogram\n",
        "Firma budowlana zainteresowana jest jakością betonu. Jedną z pożądanych cech jest jego odpowiednia wytrzymałość na ściskanie. Aby sprawdzić, czy beton proponowany przez dostawcę spełnia normy jakości, przebadano 50 próbek i otrzymano następujące wyniki wytrzymałości na ściskanie:\n",
        "6.2, 16.7, 25.5, 17.5, 14.4, 27.7, 13.2, 21.2, 21.7, 12.1, 11.7, 27.6, 22.3, 22.8, 14.2, 19.1, 22.7, 16.7, 25.2, 24.9, 13.6,  9.7, 18. , 17.9, 26.3, 17.7, 13.9, 17.7, 22.7, 16.7, 18.8, 19.5, 21.7, 21.5, 19. , 14.6, 24.6, 20.9, 20.7, 21. , 18.4, 15.3, 22.1, 26. ,25.4, 14.1, 18.1, 23. , 14.9, 27.3.\n",
        "\n",
        "a) Obliczyć podstawowe statystyki próbkowe \n",
        "\n",
        "b) Sporządzić i opisać wykres skrzynkowy.\n",
        "\n",
        "d) Zbudować szereg rozdzielczy (*dla chętnych*).\n",
        "\n",
        "e) Narysować histogram liczności.\n",
        "\n",
        "f) Narysować histogram skumulowanych liczności."
      ]
    },
    {
      "cell_type": "code",
      "metadata": {
        "id": "MKG4Q6HWy8nl",
        "colab_type": "code",
        "colab": {}
      },
      "source": [
        "beton = np.array([6.2, 16.7, 25.5, 17.5, 14.4, 27.7, 13.2, 21.2, 21.7, \n",
        "                   12.1, 11.7, 27.6, 22.3, 22.8, 14.2, 19.1, 22.7, 16.7, \n",
        "                   25.2, 24.9, 13.6,  9.7, 18. , 17.9, 26.3, 17.7, 13.9, \n",
        "                   17.7, 22.7, 16.7, 18.8, 19.5, 21.7, 21.5, 19. , 14.6, \n",
        "                   24.6, 20.9, 20.7, 21. , 18.4, 15.3, 22.1, 26. ,25.4, \n",
        "                   14.1, 18.1, 23. , 14.9, 27.3])"
      ],
      "execution_count": null,
      "outputs": []
    },
    {
      "cell_type": "code",
      "metadata": {
        "id": "-OELBQ1Yy8nr",
        "colab_type": "code",
        "colab": {},
        "outputId": "3ab7befc-9cba-4a97-ded6-66c468e35b34"
      },
      "source": [
        "beton_stats = Stats(beton)\n",
        "print(beton_stats.mean())\n",
        "print(beton_stats.median())"
      ],
      "execution_count": null,
      "outputs": [
        {
          "output_type": "stream",
          "text": [
            "19.29\n",
            "19.05\n"
          ],
          "name": "stdout"
        }
      ]
    },
    {
      "cell_type": "code",
      "metadata": {
        "id": "39hWb7PNy8nw",
        "colab_type": "code",
        "colab": {},
        "outputId": "523475a5-049a-4229-f7fb-7792369dde9f"
      },
      "source": [
        "pd.DataFrame(beton).describe()"
      ],
      "execution_count": null,
      "outputs": [
        {
          "output_type": "execute_result",
          "data": {
            "text/html": [
              "<div>\n",
              "<style scoped>\n",
              "    .dataframe tbody tr th:only-of-type {\n",
              "        vertical-align: middle;\n",
              "    }\n",
              "\n",
              "    .dataframe tbody tr th {\n",
              "        vertical-align: top;\n",
              "    }\n",
              "\n",
              "    .dataframe thead th {\n",
              "        text-align: right;\n",
              "    }\n",
              "</style>\n",
              "<table border=\"1\" class=\"dataframe\">\n",
              "  <thead>\n",
              "    <tr style=\"text-align: right;\">\n",
              "      <th></th>\n",
              "      <th>0</th>\n",
              "    </tr>\n",
              "  </thead>\n",
              "  <tbody>\n",
              "    <tr>\n",
              "      <td>count</td>\n",
              "      <td>50.000000</td>\n",
              "    </tr>\n",
              "    <tr>\n",
              "      <td>mean</td>\n",
              "      <td>19.290000</td>\n",
              "    </tr>\n",
              "    <tr>\n",
              "      <td>std</td>\n",
              "      <td>4.953302</td>\n",
              "    </tr>\n",
              "    <tr>\n",
              "      <td>min</td>\n",
              "      <td>6.200000</td>\n",
              "    </tr>\n",
              "    <tr>\n",
              "      <td>25%</td>\n",
              "      <td>15.650000</td>\n",
              "    </tr>\n",
              "    <tr>\n",
              "      <td>50%</td>\n",
              "      <td>19.050000</td>\n",
              "    </tr>\n",
              "    <tr>\n",
              "      <td>75%</td>\n",
              "      <td>22.700000</td>\n",
              "    </tr>\n",
              "    <tr>\n",
              "      <td>max</td>\n",
              "      <td>27.700000</td>\n",
              "    </tr>\n",
              "  </tbody>\n",
              "</table>\n",
              "</div>"
            ],
            "text/plain": [
              "               0\n",
              "count  50.000000\n",
              "mean   19.290000\n",
              "std     4.953302\n",
              "min     6.200000\n",
              "25%    15.650000\n",
              "50%    19.050000\n",
              "75%    22.700000\n",
              "max    27.700000"
            ]
          },
          "metadata": {
            "tags": []
          },
          "execution_count": 11
        }
      ]
    },
    {
      "cell_type": "code",
      "metadata": {
        "id": "Z72RXWEFy8n0",
        "colab_type": "code",
        "colab": {},
        "outputId": "e0cf5adf-aa6e-462f-cf79-bf3b7b21840d"
      },
      "source": [
        "plt.boxplot(beton, vert=False, labels=[\"wytrzymałość\"])\n",
        "plt.show()"
      ],
      "execution_count": null,
      "outputs": [
        {
          "output_type": "display_data",
          "data": {
            "image/png": "[encoded data removed]",
            "text/plain": [
              "<Figure size 432x288 with 1 Axes>"
            ]
          },
          "metadata": {
            "tags": [],
            "needs_background": "light"
          }
        }
      ]
    },
    {
      "cell_type": "code",
      "metadata": {
        "id": "gqizdqo0y8n4",
        "colab_type": "code",
        "colab": {},
        "outputId": "12c0f990-6ab5-4892-e762-6047608c861c"
      },
      "source": [
        "# c)\n",
        "n = beton.size\n",
        "\n",
        "# wyznaczamy liczbę klas\n",
        "left_k = 0.75 * np.sqrt(n)\n",
        "right_k = np.sqrt(n)\n",
        "print(left_k, right_k) # => k = 6"
      ],
      "execution_count": null,
      "outputs": [
        {
          "output_type": "stream",
          "text": [
            "5.303300858899107 7.0710678118654755\n"
          ],
          "name": "stdout"
        }
      ]
    },
    {
      "cell_type": "code",
      "metadata": {
        "id": "doE9dU1By8n7",
        "colab_type": "code",
        "colab": {},
        "outputId": "fe9ba909-da4a-4f32-9a95-d29d1f90c7de"
      },
      "source": [
        "k = 6\n",
        "\n",
        "# wyznaczamy długośc klasy\n",
        "bmin = beton.min()\n",
        "bmax = beton.max()\n",
        "\n",
        "d = np.round((bmax - bmin) / k, 2)\n",
        "print(d)"
      ],
      "execution_count": null,
      "outputs": [
        {
          "output_type": "stream",
          "text": [
            "3.58\n"
          ],
          "name": "stdout"
        }
      ]
    },
    {
      "cell_type": "code",
      "metadata": {
        "id": "x5AcyUBjy8n9",
        "colab_type": "code",
        "colab": {},
        "outputId": "89673fbb-9fd6-447c-c9aa-3dd404bd0a06"
      },
      "source": [
        "# wyznaczamy przedzialy klas\n",
        "left_bound = np.round(np.arange(bmin, bmax, d)[:k], 2)\n",
        "\n",
        "intervals = []\n",
        "n_size = np.zeros(k)\n",
        "\n",
        "# wyznaczamy szereg rozdzielczy\n",
        "make_interval = lambda x, y: \"[{}, {})\".format(x, y)\n",
        "make_closed_interval = lambda x, y: \"[{}, {}]\".format(x, y)\n",
        "\n",
        "for i in range(k-1):\n",
        "    l, r = left_bound[i], left_bound[i+1]\n",
        "    intervals.append(make_interval(l, r))\n",
        "    n_size[i] = np.sum((beton >= l) & (beton < r))\n",
        "         \n",
        "l, r = left_bound[k-1], bmax\n",
        "intervals.append(make_closed_interval(l, r))\n",
        "n_size[k-1] = np.sum((beton >= l) & (beton <= r))\n",
        "\n",
        "f = n_size / beton.size\n",
        "frequency_distribution = pd.DataFrame({'Interval': np.array(intervals), \n",
        "                                       'n': n_size, 'f': f, \n",
        "                                      'cn': np.cumsum(n_size), 'cf': np.cumsum(f)})\n",
        "frequency_distribution"
      ],
      "execution_count": null,
      "outputs": [
        {
          "output_type": "execute_result",
          "data": {
            "text/html": [
              "<div>\n",
              "<style scoped>\n",
              "    .dataframe tbody tr th:only-of-type {\n",
              "        vertical-align: middle;\n",
              "    }\n",
              "\n",
              "    .dataframe tbody tr th {\n",
              "        vertical-align: top;\n",
              "    }\n",
              "\n",
              "    .dataframe thead th {\n",
              "        text-align: right;\n",
              "    }\n",
              "</style>\n",
              "<table border=\"1\" class=\"dataframe\">\n",
              "  <thead>\n",
              "    <tr style=\"text-align: right;\">\n",
              "      <th></th>\n",
              "      <th>Interval</th>\n",
              "      <th>n</th>\n",
              "      <th>f</th>\n",
              "      <th>cn</th>\n",
              "      <th>cf</th>\n",
              "    </tr>\n",
              "  </thead>\n",
              "  <tbody>\n",
              "    <tr>\n",
              "      <td>0</td>\n",
              "      <td>[6.2, 9.78)</td>\n",
              "      <td>2.0</td>\n",
              "      <td>0.04</td>\n",
              "      <td>2.0</td>\n",
              "      <td>0.04</td>\n",
              "    </tr>\n",
              "    <tr>\n",
              "      <td>1</td>\n",
              "      <td>[9.78, 13.36)</td>\n",
              "      <td>3.0</td>\n",
              "      <td>0.06</td>\n",
              "      <td>5.0</td>\n",
              "      <td>0.10</td>\n",
              "    </tr>\n",
              "    <tr>\n",
              "      <td>2</td>\n",
              "      <td>[13.36, 16.94)</td>\n",
              "      <td>11.0</td>\n",
              "      <td>0.22</td>\n",
              "      <td>16.0</td>\n",
              "      <td>0.32</td>\n",
              "    </tr>\n",
              "    <tr>\n",
              "      <td>3</td>\n",
              "      <td>[16.94, 20.52)</td>\n",
              "      <td>11.0</td>\n",
              "      <td>0.22</td>\n",
              "      <td>27.0</td>\n",
              "      <td>0.54</td>\n",
              "    </tr>\n",
              "    <tr>\n",
              "      <td>4</td>\n",
              "      <td>[20.52, 24.1)</td>\n",
              "      <td>13.0</td>\n",
              "      <td>0.26</td>\n",
              "      <td>40.0</td>\n",
              "      <td>0.80</td>\n",
              "    </tr>\n",
              "    <tr>\n",
              "      <td>5</td>\n",
              "      <td>[24.1, 27.7]</td>\n",
              "      <td>10.0</td>\n",
              "      <td>0.20</td>\n",
              "      <td>50.0</td>\n",
              "      <td>1.00</td>\n",
              "    </tr>\n",
              "  </tbody>\n",
              "</table>\n",
              "</div>"
            ],
            "text/plain": [
              "         Interval     n     f    cn    cf\n",
              "0     [6.2, 9.78)   2.0  0.04   2.0  0.04\n",
              "1   [9.78, 13.36)   3.0  0.06   5.0  0.10\n",
              "2  [13.36, 16.94)  11.0  0.22  16.0  0.32\n",
              "3  [16.94, 20.52)  11.0  0.22  27.0  0.54\n",
              "4   [20.52, 24.1)  13.0  0.26  40.0  0.80\n",
              "5    [24.1, 27.7]  10.0  0.20  50.0  1.00"
            ]
          },
          "metadata": {
            "tags": []
          },
          "execution_count": 19
        }
      ]
    },
    {
      "cell_type": "code",
      "metadata": {
        "id": "GtdvBOFSy8oA",
        "colab_type": "code",
        "colab": {},
        "outputId": "c9f90768-a750-4cc9-859a-884b00c16278"
      },
      "source": [
        "# histogram\n",
        "plt.hist(beton, bins=k, width=3.5)\n",
        "plt.xticks(list(left_bound) + [bmax], rotation=0)\n",
        "plt.show()"
      ],
      "execution_count": null,
      "outputs": [
        {
          "output_type": "display_data",
          "data": {
            "image/png": "[encoded data removed]",
            "text/plain": [
              "<Figure size 432x288 with 1 Axes>"
            ]
          },
          "metadata": {
            "tags": [],
            "needs_background": "light"
          }
        }
      ]
    },
    {
      "cell_type": "code",
      "metadata": {
        "id": "wtC6bh_sy8oC",
        "colab_type": "code",
        "colab": {}
      },
      "source": [
        "# histogram skumulowanych liczności"
      ],
      "execution_count": null,
      "outputs": []
    },
    {
      "cell_type": "code",
      "metadata": {
        "id": "dAzpUQIKy8oE",
        "colab_type": "code",
        "colab": {}
      },
      "source": [
        "?plt.hist"
      ],
      "execution_count": null,
      "outputs": []
    },
    {
      "cell_type": "code",
      "metadata": {
        "id": "-MQQrIZPy8oG",
        "colab_type": "code",
        "colab": {},
        "outputId": "dd774819-7bc3-4a93-a239-e727ebac88ab"
      },
      "source": [
        "plt.hist(beton, bins=k, width=3.5, cumulative=True)\n",
        "plt.xticks(list(left_bound) + [bmax], rotation=0)\n",
        "plt.show()"
      ],
      "execution_count": null,
      "outputs": [
        {
          "output_type": "display_data",
          "data": {
            "image/png": "[encoded data removed]",
            "text/plain": [
              "<Figure size 432x288 with 1 Axes>"
            ]
          },
          "metadata": {
            "tags": [],
            "needs_background": "light"
          }
        }
      ]
    },
    {
      "cell_type": "code",
      "metadata": {
        "id": "WiW8sITWy8oH",
        "colab_type": "code",
        "colab": {}
      },
      "source": [
        ""
      ],
      "execution_count": null,
      "outputs": []
    },
    {
      "cell_type": "code",
      "metadata": {
        "id": "_tfCaVaNy8oJ",
        "colab_type": "code",
        "colab": {}
      },
      "source": [
        ""
      ],
      "execution_count": null,
      "outputs": []
    },
    {
      "cell_type": "markdown",
      "metadata": {
        "id": "qT6IuJgZy8oL",
        "colab_type": "text"
      },
      "source": [
        "## Zadanie - porównanie średniej arytmetycznej i mediany\n",
        "Wczytaj dane `stats1.csv` opisujące pomiar pewnej długości przez dwóch różnych ekspertów. Porównaj ich rozkład oraz statystyki próbkowe."
      ]
    },
    {
      "cell_type": "code",
      "metadata": {
        "scrolled": false,
        "id": "bU-T9w9By8oL",
        "colab_type": "code",
        "colab": {},
        "outputId": "9189d45e-481f-4f19-970f-68b95f03d2ef"
      },
      "source": [
        "stats1 = pd.read_csv('../data/stats1.csv')\n",
        "stats1.head(5)"
      ],
      "execution_count": null,
      "outputs": [
        {
          "output_type": "execute_result",
          "data": {
            "text/html": [
              "<div>\n",
              "<style scoped>\n",
              "    .dataframe tbody tr th:only-of-type {\n",
              "        vertical-align: middle;\n",
              "    }\n",
              "\n",
              "    .dataframe tbody tr th {\n",
              "        vertical-align: top;\n",
              "    }\n",
              "\n",
              "    .dataframe thead th {\n",
              "        text-align: right;\n",
              "    }\n",
              "</style>\n",
              "<table border=\"1\" class=\"dataframe\">\n",
              "  <thead>\n",
              "    <tr style=\"text-align: right;\">\n",
              "      <th></th>\n",
              "      <th>x</th>\n",
              "      <th>y</th>\n",
              "    </tr>\n",
              "  </thead>\n",
              "  <tbody>\n",
              "    <tr>\n",
              "      <td>0</td>\n",
              "      <td>10.968388</td>\n",
              "      <td>10.481487</td>\n",
              "    </tr>\n",
              "    <tr>\n",
              "      <td>1</td>\n",
              "      <td>11.035494</td>\n",
              "      <td>13.211230</td>\n",
              "    </tr>\n",
              "    <tr>\n",
              "      <td>2</td>\n",
              "      <td>3.805479</td>\n",
              "      <td>3.954873</td>\n",
              "    </tr>\n",
              "    <tr>\n",
              "      <td>3</td>\n",
              "      <td>3.402634</td>\n",
              "      <td>5.367647</td>\n",
              "    </tr>\n",
              "    <tr>\n",
              "      <td>4</td>\n",
              "      <td>7.527793</td>\n",
              "      <td>7.234025</td>\n",
              "    </tr>\n",
              "  </tbody>\n",
              "</table>\n",
              "</div>"
            ],
            "text/plain": [
              "           x          y\n",
              "0  10.968388  10.481487\n",
              "1  11.035494  13.211230\n",
              "2   3.805479   3.954873\n",
              "3   3.402634   5.367647\n",
              "4   7.527793   7.234025"
            ]
          },
          "metadata": {
            "tags": []
          },
          "execution_count": 27
        }
      ]
    },
    {
      "cell_type": "code",
      "metadata": {
        "id": "-oUJDRbTy8oS",
        "colab_type": "code",
        "colab": {},
        "outputId": "20ccc243-559c-4b35-92f7-e3ab93c4e18a"
      },
      "source": [
        "plt.hist(stats1.x, bins=np.arange(0, 100, 2), color='r')\n",
        "plt.show()"
      ],
      "execution_count": null,
      "outputs": [
        {
          "output_type": "display_data",
          "data": {
            "image/png": "[encoded data removed]",
            "text/plain": [
              "<Figure size 432x288 with 1 Axes>"
            ]
          },
          "metadata": {
            "tags": [],
            "needs_background": "light"
          }
        }
      ]
    },
    {
      "cell_type": "code",
      "metadata": {
        "id": "rTWHbx2qy8oX",
        "colab_type": "code",
        "colab": {},
        "outputId": "3c432c12-5998-4e13-be04-7dff05ed4dc0"
      },
      "source": [
        "plt.hist(stats1.y, bins=np.arange(0, 100, 2), color='b')\n",
        "plt.show()"
      ],
      "execution_count": null,
      "outputs": [
        {
          "output_type": "display_data",
          "data": {
            "image/png": "[encoded data removed]",
            "text/plain": [
              "<Figure size 432x288 with 1 Axes>"
            ]
          },
          "metadata": {
            "tags": [],
            "needs_background": "light"
          }
        }
      ]
    },
    {
      "cell_type": "code",
      "metadata": {
        "id": "cBa-4asgy8oc",
        "colab_type": "code",
        "colab": {},
        "outputId": "269eef46-535d-47d0-f39a-fcb09b649d70"
      },
      "source": [
        "stats1.describe()"
      ],
      "execution_count": null,
      "outputs": [
        {
          "output_type": "execute_result",
          "data": {
            "text/html": [
              "<div>\n",
              "<style scoped>\n",
              "    .dataframe tbody tr th:only-of-type {\n",
              "        vertical-align: middle;\n",
              "    }\n",
              "\n",
              "    .dataframe tbody tr th {\n",
              "        vertical-align: top;\n",
              "    }\n",
              "\n",
              "    .dataframe thead th {\n",
              "        text-align: right;\n",
              "    }\n",
              "</style>\n",
              "<table border=\"1\" class=\"dataframe\">\n",
              "  <thead>\n",
              "    <tr style=\"text-align: right;\">\n",
              "      <th></th>\n",
              "      <th>x</th>\n",
              "      <th>y</th>\n",
              "    </tr>\n",
              "  </thead>\n",
              "  <tbody>\n",
              "    <tr>\n",
              "      <td>count</td>\n",
              "      <td>1000.000000</td>\n",
              "      <td>1000.000000</td>\n",
              "    </tr>\n",
              "    <tr>\n",
              "      <td>mean</td>\n",
              "      <td>4.956962</td>\n",
              "      <td>6.523673</td>\n",
              "    </tr>\n",
              "    <tr>\n",
              "      <td>std</td>\n",
              "      <td>3.165879</td>\n",
              "      <td>28.577406</td>\n",
              "    </tr>\n",
              "    <tr>\n",
              "      <td>min</td>\n",
              "      <td>0.289994</td>\n",
              "      <td>-1.198420</td>\n",
              "    </tr>\n",
              "    <tr>\n",
              "      <td>25%</td>\n",
              "      <td>2.660315</td>\n",
              "      <td>2.736644</td>\n",
              "    </tr>\n",
              "    <tr>\n",
              "      <td>50%</td>\n",
              "      <td>4.414328</td>\n",
              "      <td>4.530463</td>\n",
              "    </tr>\n",
              "    <tr>\n",
              "      <td>75%</td>\n",
              "      <td>6.575814</td>\n",
              "      <td>6.822966</td>\n",
              "    </tr>\n",
              "    <tr>\n",
              "      <td>max</td>\n",
              "      <td>27.866537</td>\n",
              "      <td>808.876344</td>\n",
              "    </tr>\n",
              "  </tbody>\n",
              "</table>\n",
              "</div>"
            ],
            "text/plain": [
              "                 x            y\n",
              "count  1000.000000  1000.000000\n",
              "mean      4.956962     6.523673\n",
              "std       3.165879    28.577406\n",
              "min       0.289994    -1.198420\n",
              "25%       2.660315     2.736644\n",
              "50%       4.414328     4.530463\n",
              "75%       6.575814     6.822966\n",
              "max      27.866537   808.876344"
            ]
          },
          "metadata": {
            "tags": []
          },
          "execution_count": 33
        }
      ]
    },
    {
      "cell_type": "code",
      "metadata": {
        "id": "NHnSZktUy8oe",
        "colab_type": "code",
        "colab": {},
        "outputId": "f9acf022-67d7-4c9d-e54e-d35c87701943"
      },
      "source": [
        "plt.boxplot([stats1.x, stats1.y], labels=['x', 'y'])\n",
        "plt.show()"
      ],
      "execution_count": null,
      "outputs": [
        {
          "output_type": "display_data",
          "data": {
            "image/png": "[encoded data removed]",
            "text/plain": [
              "<Figure size 432x288 with 1 Axes>"
            ]
          },
          "metadata": {
            "tags": [],
            "needs_background": "light"
          }
        }
      ]
    },
    {
      "cell_type": "code",
      "metadata": {
        "id": "wZQ8L9Amy8oi",
        "colab_type": "code",
        "colab": {},
        "outputId": "b583627c-2e2b-4944-c5b7-a602bf048b20"
      },
      "source": [
        "stats1.y[np.where(stats1.y > np.quantile(stats1.y, 0.99))[0]]"
      ],
      "execution_count": null,
      "outputs": [
        {
          "output_type": "execute_result",
          "data": {
            "text/plain": [
              "103     30.095229\n",
              "158    808.876344\n",
              "240     17.864930\n",
              "323     18.376594\n",
              "380     99.305207\n",
              "467     56.603880\n",
              "524     18.773622\n",
              "592    214.653314\n",
              "658     18.098880\n",
              "699    329.789401\n",
              "Name: y, dtype: float64"
            ]
          },
          "metadata": {
            "tags": []
          },
          "execution_count": 39
        }
      ]
    },
    {
      "cell_type": "code",
      "metadata": {
        "id": "erXUguKky8om",
        "colab_type": "code",
        "colab": {},
        "outputId": "d8a3d082-f3ad-47eb-b745-e584d02a2039"
      },
      "source": [
        "stats1.x[np.where(stats1.x > np.quantile(stats1.x, 0.99))[0]]"
      ],
      "execution_count": null,
      "outputs": [
        {
          "output_type": "execute_result",
          "data": {
            "text/plain": [
              "103    27.866537\n",
              "240    18.567657\n",
              "323    18.175175\n",
              "357    16.665207\n",
              "428    16.983643\n",
              "503    16.255930\n",
              "524    17.507817\n",
              "658    17.966354\n",
              "687    16.704449\n",
              "892    16.168756\n",
              "Name: x, dtype: float64"
            ]
          },
          "metadata": {
            "tags": []
          },
          "execution_count": 40
        }
      ]
    },
    {
      "cell_type": "markdown",
      "metadata": {
        "id": "1vC9pAuty8op",
        "colab_type": "text"
      },
      "source": [
        "**Wnioski:** \n",
        "- **średnia artymetyczna**:\n",
        "    + bierze pod uwagę całą próbę\n",
        "    - bardzo wrażliwa na wpływ obserwacji odstających, zwanych też outlierami - obserwacje odstające, to te wartości w próbie, które są bardzo małe albo bardzo duże w stosunku do ogółu obserwacji (najczęściej, choć nie zawsze, outliery są rezultatem błędów grubych, stąd też należy być bardzo ostrożnym przy wyciąganiu wniosków na podstawie próby zawierającej obserwacje odstające).\n",
        "- **mediana**:\n",
        "    + całkowicie odporna na wpływ obserwacji odstających, bowiem wyznaczana jest na podstawie środkowych wartości w próbie i ignoruje całkowicie wartości ekstremalne."
      ]
    },
    {
      "cell_type": "markdown",
      "metadata": {
        "id": "qBy9NbXHy8op",
        "colab_type": "text"
      },
      "source": [
        "## Zadanie - współczynnik rozproszenia\n",
        "Wczytaj dane `stats2.csv` zawierające pomiary wagi słoni i myszy w pewnym zoo (w gramach). Wyznacz statystyki próbkowe i oceń, która próbka, opisująca wagę słoni, czy opisująca wagę myszy, ma większe rozproszenie wartości."
      ]
    },
    {
      "cell_type": "code",
      "metadata": {
        "scrolled": true,
        "id": "1hn2LQ8ky8oq",
        "colab_type": "code",
        "colab": {},
        "outputId": "0acf18ed-6cb6-4501-baa0-a81422367685"
      },
      "source": [
        "weight = pd.read_csv('../data/stats2.csv')\n",
        "weight.head(5)"
      ],
      "execution_count": null,
      "outputs": [
        {
          "output_type": "execute_result",
          "data": {
            "text/html": [
              "<div>\n",
              "<style scoped>\n",
              "    .dataframe tbody tr th:only-of-type {\n",
              "        vertical-align: middle;\n",
              "    }\n",
              "\n",
              "    .dataframe tbody tr th {\n",
              "        vertical-align: top;\n",
              "    }\n",
              "\n",
              "    .dataframe thead th {\n",
              "        text-align: right;\n",
              "    }\n",
              "</style>\n",
              "<table border=\"1\" class=\"dataframe\">\n",
              "  <thead>\n",
              "    <tr style=\"text-align: right;\">\n",
              "      <th></th>\n",
              "      <th>elephant</th>\n",
              "      <th>mouse</th>\n",
              "    </tr>\n",
              "  </thead>\n",
              "  <tbody>\n",
              "    <tr>\n",
              "      <td>0</td>\n",
              "      <td>3883240.0</td>\n",
              "      <td>21.0</td>\n",
              "    </tr>\n",
              "    <tr>\n",
              "      <td>1</td>\n",
              "      <td>4046450.0</td>\n",
              "      <td>18.0</td>\n",
              "    </tr>\n",
              "    <tr>\n",
              "      <td>2</td>\n",
              "      <td>4152119.0</td>\n",
              "      <td>22.0</td>\n",
              "    </tr>\n",
              "    <tr>\n",
              "      <td>3</td>\n",
              "      <td>2578306.0</td>\n",
              "      <td>23.0</td>\n",
              "    </tr>\n",
              "    <tr>\n",
              "      <td>4</td>\n",
              "      <td>3597481.0</td>\n",
              "      <td>25.0</td>\n",
              "    </tr>\n",
              "  </tbody>\n",
              "</table>\n",
              "</div>"
            ],
            "text/plain": [
              "    elephant  mouse\n",
              "0  3883240.0   21.0\n",
              "1  4046450.0   18.0\n",
              "2  4152119.0   22.0\n",
              "3  2578306.0   23.0\n",
              "4  3597481.0   25.0"
            ]
          },
          "metadata": {
            "tags": []
          },
          "execution_count": 41
        }
      ]
    },
    {
      "cell_type": "code",
      "metadata": {
        "id": "cyH8Gxvpy8ou",
        "colab_type": "code",
        "colab": {},
        "outputId": "ac12bdba-c551-4b1e-e395-11af6cc2787f"
      },
      "source": [
        "s = weight.describe()\n",
        "s"
      ],
      "execution_count": null,
      "outputs": [
        {
          "output_type": "execute_result",
          "data": {
            "text/html": [
              "<div>\n",
              "<style scoped>\n",
              "    .dataframe tbody tr th:only-of-type {\n",
              "        vertical-align: middle;\n",
              "    }\n",
              "\n",
              "    .dataframe tbody tr th {\n",
              "        vertical-align: top;\n",
              "    }\n",
              "\n",
              "    .dataframe thead th {\n",
              "        text-align: right;\n",
              "    }\n",
              "</style>\n",
              "<table border=\"1\" class=\"dataframe\">\n",
              "  <thead>\n",
              "    <tr style=\"text-align: right;\">\n",
              "      <th></th>\n",
              "      <th>elephant</th>\n",
              "      <th>mouse</th>\n",
              "    </tr>\n",
              "  </thead>\n",
              "  <tbody>\n",
              "    <tr>\n",
              "      <td>count</td>\n",
              "      <td>1.000000e+02</td>\n",
              "      <td>100.000000</td>\n",
              "    </tr>\n",
              "    <tr>\n",
              "      <td>mean</td>\n",
              "      <td>4.017328e+06</td>\n",
              "      <td>20.470000</td>\n",
              "    </tr>\n",
              "    <tr>\n",
              "      <td>std</td>\n",
              "      <td>4.998078e+05</td>\n",
              "      <td>2.886594</td>\n",
              "    </tr>\n",
              "    <tr>\n",
              "      <td>min</td>\n",
              "      <td>2.578306e+06</td>\n",
              "      <td>13.000000</td>\n",
              "    </tr>\n",
              "    <tr>\n",
              "      <td>25%</td>\n",
              "      <td>3.685120e+06</td>\n",
              "      <td>19.000000</td>\n",
              "    </tr>\n",
              "    <tr>\n",
              "      <td>50%</td>\n",
              "      <td>4.046994e+06</td>\n",
              "      <td>20.000000</td>\n",
              "    </tr>\n",
              "    <tr>\n",
              "      <td>75%</td>\n",
              "      <td>4.380402e+06</td>\n",
              "      <td>22.000000</td>\n",
              "    </tr>\n",
              "    <tr>\n",
              "      <td>max</td>\n",
              "      <td>5.246947e+06</td>\n",
              "      <td>27.000000</td>\n",
              "    </tr>\n",
              "  </tbody>\n",
              "</table>\n",
              "</div>"
            ],
            "text/plain": [
              "           elephant       mouse\n",
              "count  1.000000e+02  100.000000\n",
              "mean   4.017328e+06   20.470000\n",
              "std    4.998078e+05    2.886594\n",
              "min    2.578306e+06   13.000000\n",
              "25%    3.685120e+06   19.000000\n",
              "50%    4.046994e+06   20.000000\n",
              "75%    4.380402e+06   22.000000\n",
              "max    5.246947e+06   27.000000"
            ]
          },
          "metadata": {
            "tags": []
          },
          "execution_count": 43
        }
      ]
    },
    {
      "cell_type": "markdown",
      "metadata": {
        "id": "okkUg-tvy8ox",
        "colab_type": "text"
      },
      "source": [
        "**Uwaga**: W sytuacji, gdy chcemy porównanć rozrzut dwóch lub więcej prób, nieraz wygodniej jest skorzystać ze względnej miary rozproszenia - **współczynnika rozproszenia**:\n",
        "$$\n",
        "V = \\frac{S}{\\overline{X}}\\cdot 100\\%.\n",
        "$$\n"
      ]
    },
    {
      "cell_type": "code",
      "metadata": {
        "id": "YyeeVuMcy8oy",
        "colab_type": "code",
        "colab": {},
        "outputId": "9c6040df-9389-4045-df65-af3856ad5cb5"
      },
      "source": [
        "s.loc['std'] / s.loc['mean'] * 100"
      ],
      "execution_count": null,
      "outputs": [
        {
          "output_type": "execute_result",
          "data": {
            "text/plain": [
              "elephant    12.441300\n",
              "mouse       14.101582\n",
              "dtype: float64"
            ]
          },
          "metadata": {
            "tags": []
          },
          "execution_count": 45
        }
      ]
    },
    {
      "cell_type": "markdown",
      "metadata": {
        "id": "AgsxQQcty8o0",
        "colab_type": "text"
      },
      "source": [
        "## Miara korelacji — współczynnik korelacji Pearsona"
      ]
    },
    {
      "cell_type": "markdown",
      "metadata": {
        "id": "89gycAhHy8o1",
        "colab_type": "text"
      },
      "source": [
        "W przypadku jednoczesnego badania dwóch cech pewnej populacji naszą próbą jest ciąg par $$(X_1, Y_1),\\ldots,(X_n, Y_n),$$ gdzie $X_i$ oraz $Y_i$ oznaczają, odpowiednio, wartości pierwszej i drugiej cechy przyjmowane przez $i$-ty element próby.\n",
        "\n",
        "Wówczas **współczynnik korelacji Pearsona** jest dany wzorem\n",
        "\\begin{equation*}\n",
        "    r = \\frac{\\sum_{i=1}^n(X_i-\\overline{X})(Y_i-\\overline{Y})}{\\sqrt{\\sum_{i=1}^n(X_i-\\overline{X})^2\\sum_{i=1}^n(Y_i-\\overline{Y})^2}}.\n",
        "\\end{equation*}"
      ]
    },
    {
      "cell_type": "code",
      "metadata": {
        "id": "dB-cEy20y8o1",
        "colab_type": "code",
        "colab": {}
      },
      "source": [
        "?np.corrcoef"
      ],
      "execution_count": null,
      "outputs": []
    },
    {
      "cell_type": "markdown",
      "metadata": {
        "id": "4ZMkxaGuy8o5",
        "colab_type": "text"
      },
      "source": [
        "## Zadanie - korelacja liniowa\n",
        "Wygeneruj próbkę $X$ z wybranego przez siebie rozkładu i oblicz wartość elementów próbki $Y$ zgodnie ze wzorem\n",
        "\n",
        "a) $Y = X$,\n",
        "\n",
        "b) $Y = 5X$,\n",
        "\n",
        "c) $Y = -5X$,\n",
        "\n",
        "d) $Y = X^2$,\n",
        "\n",
        "f) $Y = \\exp(X)$,\n",
        "\n",
        "g) $Y = \\sin(X)$, \n",
        "\n",
        "a następnie oblicz współczynnik korelacji pomiędzy zmiennymi $X$ i $Y$."
      ]
    },
    {
      "cell_type": "code",
      "metadata": {
        "id": "VOY2PaVyy8o6",
        "colab_type": "code",
        "colab": {}
      },
      "source": [
        "f1 = lambda a, x: a * x\n",
        "f2 = lambda a, x: x ** a\n",
        "f3 = lambda x: np.exp(x)\n",
        "f4 = lambda x: np.sin(x)"
      ],
      "execution_count": null,
      "outputs": []
    },
    {
      "cell_type": "code",
      "metadata": {
        "id": "Fz8jlNAky8o7",
        "colab_type": "code",
        "colab": {}
      },
      "source": [
        "x = stats.norm.rvs(size=10000, loc=0, scale=1)\n",
        "\n",
        "ya = f1(1, x)\n",
        "yb = f1(5, x)\n",
        "yc = f1(-5, x)\n",
        "yd = f2(2, x)\n",
        "yf = f3(x)\n",
        "yg = f4(x)"
      ],
      "execution_count": null,
      "outputs": []
    },
    {
      "cell_type": "code",
      "metadata": {
        "id": "d6Gak4ZBy8o-",
        "colab_type": "code",
        "colab": {},
        "outputId": "27ef495f-98ff-488a-d34a-6b9a33981c69"
      },
      "source": [
        "np.round(np.corrcoef(x, yd)[0, 1], 5)"
      ],
      "execution_count": null,
      "outputs": [
        {
          "output_type": "execute_result",
          "data": {
            "text/plain": [
              "0.00407"
            ]
          },
          "metadata": {
            "tags": []
          },
          "execution_count": 54
        }
      ]
    },
    {
      "cell_type": "code",
      "metadata": {
        "id": "dxzFjfp2y8o_",
        "colab_type": "code",
        "colab": {},
        "outputId": "de181f69-4e67-4189-d32e-0ec36312c69b"
      },
      "source": [
        "fig, ax = plt.subplots(2, 3, figsize=(20, 10))\n",
        "ax[0, 0].plot(x, ya, \"p\", label=\"ya, cor={}\".format(np.round(np.corrcoef(x, ya)[0, 1], 5)))\n",
        "ax[0, 0].legend(loc=\"best\")\n",
        "\n",
        "ax[0, 1].plot(x, yb, \"p\", label=\"yb, cor={}\".format(np.round(np.corrcoef(x, yb)[0, 1], 5)))\n",
        "ax[0, 1].legend(loc=\"best\")\n",
        "\n",
        "ax[0, 2].plot(x, yc, \"p\", label=\"yc, cor={}\".format(np.round(np.corrcoef(x, yc)[0, 1], 5)))\n",
        "ax[0, 2].legend(loc=\"best\")\n",
        "\n",
        "ax[1, 0].plot(x, yd, \"p\", label=\"yd, cor={}\".format(np.round(np.corrcoef(x, yd)[0, 1], 5)))\n",
        "ax[1, 0].legend(loc=\"best\")\n",
        "\n",
        "ax[1, 1].plot(x, yf, \"p\", label=\"yf, cor={}\".format(np.round(np.corrcoef(x, yf)[0, 1], 5)))\n",
        "ax[1, 1].legend(loc=\"best\")\n",
        "\n",
        "ax[1, 2].plot(x, yg, \"p\", label=\"yg, cor={}\".format(np.round(np.corrcoef(x, yg)[0, 1], 5)))\n",
        "ax[1, 2].legend(loc=\"best\")"
      ],
      "execution_count": null,
      "outputs": [
        {
          "output_type": "execute_result",
          "data": {
            "text/plain": [
              "<matplotlib.legend.Legend at 0x7f857dc967d0>"
            ]
          },
          "metadata": {
            "tags": []
          },
          "execution_count": 57
        },
        {
          "output_type": "display_data",
          "data": {
            "image/png": "[encoded data removed]",
            "text/plain": [
              "<Figure size 1440x720 with 6 Axes>"
            ]
          },
          "metadata": {
            "tags": [],
            "needs_background": "light"
          }
        }
      ]
    },
    {
      "cell_type": "markdown",
      "metadata": {
        "id": "zPGYXCJDy8pB",
        "colab_type": "text"
      },
      "source": [
        "**Wniosek**:\n",
        "- zerowa korelacja nie oznacza braku zależności, np. związek $y=x^2$."
      ]
    },
    {
      "cell_type": "markdown",
      "metadata": {
        "id": "9de4kTQDy8pB",
        "colab_type": "text"
      },
      "source": [
        "## Zadanie - korelacja liniowa\n",
        "Wygeneruj $n$ par niezależnych zmiennych losowych, dla każdej z nich wyznacz współczynnik korelacji, a następnie sprawdź rozkład otrzymanych współczynników."
      ]
    },
    {
      "cell_type": "code",
      "metadata": {
        "id": "BoQ2GqQ1y8pC",
        "colab_type": "code",
        "colab": {}
      },
      "source": [
        "N = 1000 # powtarzamy eksperyment 1000\n",
        "n = 100 # probka licznosci 100\n",
        "\n",
        "cor = np.zeros(N)\n",
        "\n",
        "for i in range(N):\n",
        "    x = stats.norm.rvs(size=n, loc=0, scale=1)\n",
        "    y = stats.uniform.rvs(size=n, loc=-2, scale=4)\n",
        "    cor[i] = np.corrcoef(x, y)[0, 1]"
      ],
      "execution_count": null,
      "outputs": []
    },
    {
      "cell_type": "code",
      "metadata": {
        "id": "PoiNQZINy8pE",
        "colab_type": "code",
        "colab": {},
        "outputId": "679279b6-78df-4ca9-b403-2bd91c67f5c5"
      },
      "source": [
        "pd.DataFrame(cor).describe()"
      ],
      "execution_count": null,
      "outputs": [
        {
          "output_type": "execute_result",
          "data": {
            "text/html": [
              "<div>\n",
              "<style scoped>\n",
              "    .dataframe tbody tr th:only-of-type {\n",
              "        vertical-align: middle;\n",
              "    }\n",
              "\n",
              "    .dataframe tbody tr th {\n",
              "        vertical-align: top;\n",
              "    }\n",
              "\n",
              "    .dataframe thead th {\n",
              "        text-align: right;\n",
              "    }\n",
              "</style>\n",
              "<table border=\"1\" class=\"dataframe\">\n",
              "  <thead>\n",
              "    <tr style=\"text-align: right;\">\n",
              "      <th></th>\n",
              "      <th>0</th>\n",
              "    </tr>\n",
              "  </thead>\n",
              "  <tbody>\n",
              "    <tr>\n",
              "      <td>count</td>\n",
              "      <td>1000.000000</td>\n",
              "    </tr>\n",
              "    <tr>\n",
              "      <td>mean</td>\n",
              "      <td>0.005363</td>\n",
              "    </tr>\n",
              "    <tr>\n",
              "      <td>std</td>\n",
              "      <td>0.099742</td>\n",
              "    </tr>\n",
              "    <tr>\n",
              "      <td>min</td>\n",
              "      <td>-0.312933</td>\n",
              "    </tr>\n",
              "    <tr>\n",
              "      <td>25%</td>\n",
              "      <td>-0.059776</td>\n",
              "    </tr>\n",
              "    <tr>\n",
              "      <td>50%</td>\n",
              "      <td>0.002248</td>\n",
              "    </tr>\n",
              "    <tr>\n",
              "      <td>75%</td>\n",
              "      <td>0.070684</td>\n",
              "    </tr>\n",
              "    <tr>\n",
              "      <td>max</td>\n",
              "      <td>0.297089</td>\n",
              "    </tr>\n",
              "  </tbody>\n",
              "</table>\n",
              "</div>"
            ],
            "text/plain": [
              "                 0\n",
              "count  1000.000000\n",
              "mean      0.005363\n",
              "std       0.099742\n",
              "min      -0.312933\n",
              "25%      -0.059776\n",
              "50%       0.002248\n",
              "75%       0.070684\n",
              "max       0.297089"
            ]
          },
          "metadata": {
            "tags": []
          },
          "execution_count": 60
        }
      ]
    },
    {
      "cell_type": "markdown",
      "metadata": {
        "id": "_0M0BluJy8pF",
        "colab_type": "text"
      },
      "source": [
        "**Wniosek**: Niezależne zmienne losowe moga mieć niezerową korelację."
      ]
    },
    {
      "cell_type": "markdown",
      "metadata": {
        "id": "D_vgQPtIy8pG",
        "colab_type": "text"
      },
      "source": [
        "## Zadanie\n",
        "Wczytaj zbiór danych `boston_prediction.csv`, który zawiera dane z predykcji dwóch modeli cen mieszkań w Bostonie (więcej na temat zbioru, na podstawie, którego zbudowano modele możesz przeczytać, np. https://stat.ethz.ch/R-manual/R-devel/library/MASS/html/Boston.html).\n",
        "\n",
        "Oceń jakość predykcji obu modeli: policz średnią, medianę, kwartyl rzędu 90% oraz odchylenie standardowe dla błędu bezwzględnego i względnego oraz korelację wartości przewidywanych z prawdziwymi. Wyciągnąć wnioski na temat działania obu modeli."
      ]
    },
    {
      "cell_type": "markdown",
      "metadata": {
        "id": "g2BMj4Xyy8pG",
        "colab_type": "text"
      },
      "source": [
        "**Wskazówka**:\n",
        "\n",
        "**Błąd bezwzględny** liczymy ze wzoru:\n",
        "$$\n",
        "\\Delta x = |x-x_0|.\n",
        "$$\n",
        "\n",
        "**Błąd względny** liczymy ze wzoru:\n",
        "$$\n",
        "\\delta = \\frac{\\Delta x}{x}.\n",
        "$$\n",
        "\n",
        "Oznaczenia: $x$ - wartość dokładna, $x_0$ - wartość zmierzona."
      ]
    },
    {
      "cell_type": "code",
      "metadata": {
        "id": "p95GMtVDy8pG",
        "colab_type": "code",
        "colab": {}
      },
      "source": [
        "# https://stat.ethz.ch/R-manual/R-devel/library/MASS/html/Boston.html\n",
        "from sklearn.datasets import load_boston\n",
        "X, y = load_boston(return_X_y=True)"
      ],
      "execution_count": null,
      "outputs": []
    },
    {
      "cell_type": "code",
      "metadata": {
        "id": "riYzWZS-y8pI",
        "colab_type": "code",
        "colab": {},
        "outputId": "8075d27c-4575-42e5-df4c-2d73a463f8c3"
      },
      "source": [
        "boston_pred = pd.read_csv(\"../data/boston_prediction.csv\")\n",
        "boston_pred.head(5)"
      ],
      "execution_count": null,
      "outputs": [
        {
          "output_type": "execute_result",
          "data": {
            "text/html": [
              "<div>\n",
              "<style scoped>\n",
              "    .dataframe tbody tr th:only-of-type {\n",
              "        vertical-align: middle;\n",
              "    }\n",
              "\n",
              "    .dataframe tbody tr th {\n",
              "        vertical-align: top;\n",
              "    }\n",
              "\n",
              "    .dataframe thead th {\n",
              "        text-align: right;\n",
              "    }\n",
              "</style>\n",
              "<table border=\"1\" class=\"dataframe\">\n",
              "  <thead>\n",
              "    <tr style=\"text-align: right;\">\n",
              "      <th></th>\n",
              "      <th>price</th>\n",
              "      <th>model_pred</th>\n",
              "      <th>model_pred2</th>\n",
              "    </tr>\n",
              "  </thead>\n",
              "  <tbody>\n",
              "    <tr>\n",
              "      <td>0</td>\n",
              "      <td>24.0</td>\n",
              "      <td>30.0</td>\n",
              "      <td>27.4</td>\n",
              "    </tr>\n",
              "    <tr>\n",
              "      <td>1</td>\n",
              "      <td>21.6</td>\n",
              "      <td>25.0</td>\n",
              "      <td>21.7</td>\n",
              "    </tr>\n",
              "    <tr>\n",
              "      <td>2</td>\n",
              "      <td>34.7</td>\n",
              "      <td>30.6</td>\n",
              "      <td>33.7</td>\n",
              "    </tr>\n",
              "    <tr>\n",
              "      <td>3</td>\n",
              "      <td>33.4</td>\n",
              "      <td>28.6</td>\n",
              "      <td>33.7</td>\n",
              "    </tr>\n",
              "    <tr>\n",
              "      <td>4</td>\n",
              "      <td>36.2</td>\n",
              "      <td>27.9</td>\n",
              "      <td>33.7</td>\n",
              "    </tr>\n",
              "  </tbody>\n",
              "</table>\n",
              "</div>"
            ],
            "text/plain": [
              "   price  model_pred  model_pred2\n",
              "0   24.0        30.0         27.4\n",
              "1   21.6        25.0         21.7\n",
              "2   34.7        30.6         33.7\n",
              "3   33.4        28.6         33.7\n",
              "4   36.2        27.9         33.7"
            ]
          },
          "metadata": {
            "tags": []
          },
          "execution_count": 62
        }
      ]
    },
    {
      "cell_type": "code",
      "metadata": {
        "id": "MLsiVUfxy8pL",
        "colab_type": "code",
        "colab": {},
        "outputId": "7fd84534-2899-467e-d4b6-f1a232f26e7b"
      },
      "source": [
        "boston_pred.describe()"
      ],
      "execution_count": null,
      "outputs": [
        {
          "output_type": "execute_result",
          "data": {
            "text/html": [
              "<div>\n",
              "<style scoped>\n",
              "    .dataframe tbody tr th:only-of-type {\n",
              "        vertical-align: middle;\n",
              "    }\n",
              "\n",
              "    .dataframe tbody tr th {\n",
              "        vertical-align: top;\n",
              "    }\n",
              "\n",
              "    .dataframe thead th {\n",
              "        text-align: right;\n",
              "    }\n",
              "</style>\n",
              "<table border=\"1\" class=\"dataframe\">\n",
              "  <thead>\n",
              "    <tr style=\"text-align: right;\">\n",
              "      <th></th>\n",
              "      <th>price</th>\n",
              "      <th>model_pred</th>\n",
              "      <th>model_pred2</th>\n",
              "    </tr>\n",
              "  </thead>\n",
              "  <tbody>\n",
              "    <tr>\n",
              "      <td>count</td>\n",
              "      <td>506.000000</td>\n",
              "      <td>506.000000</td>\n",
              "      <td>506.000000</td>\n",
              "    </tr>\n",
              "    <tr>\n",
              "      <td>mean</td>\n",
              "      <td>22.532806</td>\n",
              "      <td>22.532016</td>\n",
              "      <td>22.539921</td>\n",
              "    </tr>\n",
              "    <tr>\n",
              "      <td>std</td>\n",
              "      <td>9.197104</td>\n",
              "      <td>7.913610</td>\n",
              "      <td>8.258947</td>\n",
              "    </tr>\n",
              "    <tr>\n",
              "      <td>min</td>\n",
              "      <td>5.000000</td>\n",
              "      <td>-4.300000</td>\n",
              "      <td>12.000000</td>\n",
              "    </tr>\n",
              "    <tr>\n",
              "      <td>25%</td>\n",
              "      <td>17.025000</td>\n",
              "      <td>17.425000</td>\n",
              "      <td>17.100000</td>\n",
              "    </tr>\n",
              "    <tr>\n",
              "      <td>50%</td>\n",
              "      <td>21.200000</td>\n",
              "      <td>22.100000</td>\n",
              "      <td>21.700000</td>\n",
              "    </tr>\n",
              "    <tr>\n",
              "      <td>75%</td>\n",
              "      <td>25.000000</td>\n",
              "      <td>27.400000</td>\n",
              "      <td>27.400000</td>\n",
              "    </tr>\n",
              "    <tr>\n",
              "      <td>max</td>\n",
              "      <td>50.000000</td>\n",
              "      <td>44.700000</td>\n",
              "      <td>45.100000</td>\n",
              "    </tr>\n",
              "  </tbody>\n",
              "</table>\n",
              "</div>"
            ],
            "text/plain": [
              "            price  model_pred  model_pred2\n",
              "count  506.000000  506.000000   506.000000\n",
              "mean    22.532806   22.532016    22.539921\n",
              "std      9.197104    7.913610     8.258947\n",
              "min      5.000000   -4.300000    12.000000\n",
              "25%     17.025000   17.425000    17.100000\n",
              "50%     21.200000   22.100000    21.700000\n",
              "75%     25.000000   27.400000    27.400000\n",
              "max     50.000000   44.700000    45.100000"
            ]
          },
          "metadata": {
            "tags": []
          },
          "execution_count": 63
        }
      ]
    },
    {
      "cell_type": "code",
      "metadata": {
        "id": "2kW1PhyEy8pP",
        "colab_type": "code",
        "colab": {},
        "outputId": "286bbfc6-57ca-457b-9148-cd29f862bb02"
      },
      "source": [
        "np.quantile(boston_pred, q=0.90, axis=0)"
      ],
      "execution_count": null,
      "outputs": [
        {
          "output_type": "execute_result",
          "data": {
            "text/plain": [
              "array([34.8, 33.3, 33.7])"
            ]
          },
          "metadata": {
            "tags": []
          },
          "execution_count": 64
        }
      ]
    },
    {
      "cell_type": "code",
      "metadata": {
        "id": "eKvkPcSxy8pS",
        "colab_type": "code",
        "colab": {}
      },
      "source": [
        "# bledy bezwgledne"
      ],
      "execution_count": null,
      "outputs": []
    },
    {
      "cell_type": "code",
      "metadata": {
        "id": "MFl9XNDZy8pU",
        "colab_type": "code",
        "colab": {},
        "outputId": "25344e06-3371-4831-af08-f6a69b4a40cb"
      },
      "source": [
        "np.std(np.abs(boston_pred.price - boston_pred.model_pred), ddof=1)"
      ],
      "execution_count": null,
      "outputs": [
        {
          "output_type": "execute_result",
          "data": {
            "text/plain": [
              "3.349464654830097"
            ]
          },
          "metadata": {
            "tags": []
          },
          "execution_count": 66
        }
      ]
    },
    {
      "cell_type": "code",
      "metadata": {
        "id": "pUZ7JYaCy8pW",
        "colab_type": "code",
        "colab": {},
        "outputId": "9f0f078e-f183-4f12-f334-49ff00924069"
      },
      "source": [
        "np.std(np.abs(boston_pred.price - boston_pred.model_pred2), ddof=1)"
      ],
      "execution_count": null,
      "outputs": [
        {
          "output_type": "execute_result",
          "data": {
            "text/plain": [
              "2.791766747074344"
            ]
          },
          "metadata": {
            "tags": []
          },
          "execution_count": 67
        }
      ]
    },
    {
      "cell_type": "code",
      "metadata": {
        "id": "5-W4OQ19y8pZ",
        "colab_type": "code",
        "colab": {}
      },
      "source": [
        "# bledy wzgledne "
      ],
      "execution_count": null,
      "outputs": []
    },
    {
      "cell_type": "code",
      "metadata": {
        "id": "4P6wF11sy8pc",
        "colab_type": "code",
        "colab": {},
        "outputId": "0be333d8-1c1d-4d7b-dfb4-6d0aa6efef09"
      },
      "source": [
        "np.std(np.abs(boston_pred.price - boston_pred.model_pred) / boston_pred.price, ddof=1)"
      ],
      "execution_count": null,
      "outputs": [
        {
          "output_type": "execute_result",
          "data": {
            "text/plain": [
              "0.18546959252120954"
            ]
          },
          "metadata": {
            "tags": []
          },
          "execution_count": 68
        }
      ]
    },
    {
      "cell_type": "code",
      "metadata": {
        "id": "SK76gDyDy8pf",
        "colab_type": "code",
        "colab": {},
        "outputId": "821b1323-64b9-46dc-b552-61a5af96e300"
      },
      "source": [
        "np.std(np.abs(boston_pred.price - boston_pred.model_pred2) / boston_pred.price, ddof=1)"
      ],
      "execution_count": null,
      "outputs": [
        {
          "output_type": "execute_result",
          "data": {
            "text/plain": [
              "0.19345466569108838"
            ]
          },
          "metadata": {
            "tags": []
          },
          "execution_count": 69
        }
      ]
    },
    {
      "cell_type": "code",
      "metadata": {
        "id": "PkYXfh_Ay8ph",
        "colab_type": "code",
        "colab": {}
      },
      "source": [
        "# korelacja"
      ],
      "execution_count": null,
      "outputs": []
    },
    {
      "cell_type": "code",
      "metadata": {
        "id": "Aa0fvdYEy8pi",
        "colab_type": "code",
        "colab": {},
        "outputId": "8e1f3d76-98b2-430a-c657-4a1796caf798"
      },
      "source": [
        "np.corrcoef(boston_pred.price, boston_pred.model_pred)[0, 1]"
      ],
      "execution_count": null,
      "outputs": [
        {
          "output_type": "execute_result",
          "data": {
            "text/plain": [
              "0.8606612985241783"
            ]
          },
          "metadata": {
            "tags": []
          },
          "execution_count": 70
        }
      ]
    },
    {
      "cell_type": "code",
      "metadata": {
        "id": "d-m-MexQy8pm",
        "colab_type": "code",
        "colab": {},
        "outputId": "f189f24b-3d90-46d2-90d6-b06cbb4db843"
      },
      "source": [
        "np.corrcoef(boston_pred.price, boston_pred.model_pred2)[0, 1]"
      ],
      "execution_count": null,
      "outputs": [
        {
          "output_type": "execute_result",
          "data": {
            "text/plain": [
              "0.8986422163603659"
            ]
          },
          "metadata": {
            "tags": []
          },
          "execution_count": 71
        }
      ]
    },
    {
      "cell_type": "code",
      "metadata": {
        "id": "cI9Lh4IPy8pn",
        "colab_type": "code",
        "colab": {}
      },
      "source": [
        ""
      ],
      "execution_count": null,
      "outputs": []
    }
  ]
}