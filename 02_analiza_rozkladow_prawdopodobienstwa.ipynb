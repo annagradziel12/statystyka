{
  "nbformat": 4,
  "nbformat_minor": 0,
  "metadata": {
    "kernelspec": {
      "display_name": "Python 3",
      "language": "python",
      "name": "python3"
    },
    "language_info": {
      "codemirror_mode": {
        "name": "ipython",
        "version": 3
      },
      "file_extension": ".py",
      "mimetype": "text/x-python",
      "name": "python",
      "nbconvert_exporter": "python",
      "pygments_lexer": "ipython3",
      "version": "3.7.4"
    },
    "colab": {
      "name": "02_analiza_rozkladow_prawdopodobienstwa.ipynb",
      "provenance": [],
      "include_colab_link": true
    }
  },
  "cells": [
    {
      "cell_type": "markdown",
      "metadata": {
        "id": "view-in-github",
        "colab_type": "text"
      },
      "source": [
        "<a href=\"https://colab.research.google.com/github/annagradziel12/statystyka/blob/master/02_analiza_rozkladow_prawdopodobienstwa.ipynb\" target=\"_parent\"><img src=\"https://colab.research.google.com/assets/colab-badge.svg\" alt=\"Open In Colab\"/></a>"
      ]
    },
    {
      "cell_type": "markdown",
      "metadata": {
        "id": "-4Iw6NTZ2TbL",
        "colab_type": "text"
      },
      "source": [
        "# Analiza rozkładów prawdopobieństwa"
      ]
    },
    {
      "cell_type": "code",
      "metadata": {
        "id": "MK7pwptK2TbO",
        "colab_type": "code",
        "colab": {}
      },
      "source": [
        "import numpy as np\n",
        "import matplotlib.pyplot as plt\n",
        "\n",
        "from scipy import stats"
      ],
      "execution_count": null,
      "outputs": []
    },
    {
      "cell_type": "markdown",
      "metadata": {
        "id": "BJR6pwPV2TbV",
        "colab_type": "text"
      },
      "source": [
        "## Zadanie - rozkład dyskretny\n",
        "Zmienna losowa $X$ ma funkcje prawdopodobieństwa nastepującej postaci:\n",
        "\n",
        "| $x_i$ | -3  | -1  | 3   | 5   |\n",
        "|-------|-----|-----|-----|-----|\n",
        "| $p_i$ | 0.1 | 0.2 | 0.5 | 0.2 |\n",
        "\n",
        "\n",
        "a) Narysuj wykres rozkładu prawdopodobieństwa.\n",
        "\n",
        "b) Wyznacz narysuj dystrybuante $F$ tego rozkładu.\n",
        "\n",
        "c) Oblicz prawdopodobieństwa $P(X > 1)$ i $P( \\frac{1}{4} < X < 5)$.\n",
        "\n",
        "d) Oblicz wartość oczekiwaną, wariancję i odchylenie standardowe zmiennej X."
      ]
    },
    {
      "cell_type": "code",
      "metadata": {
        "id": "4pdxJdtt2TbX",
        "colab_type": "code",
        "colab": {},
        "outputId": "078b7d38-79f5-43f8-88e2-f486b962df6e"
      },
      "source": [
        "X = [-3, -1, 3, 5]\n",
        "p = [0.1, 0.2, 0.5, 0.2]\n",
        "\n",
        "# a) \n",
        "plt.scatter(x=X, y=p)\n",
        "plt.vlines(X, 0, p, colors='g', lw=3, alpha=0.5)\n",
        "plt.show()"
      ],
      "execution_count": null,
      "outputs": [
        {
          "output_type": "display_data",
          "data": {
            "image/png": "[encoded data removed]",
            "text/plain": [
              "<Figure size 432x288 with 1 Axes>"
            ]
          },
          "metadata": {
            "tags": [],
            "needs_background": "light"
          }
        }
      ]
    },
    {
      "cell_type": "code",
      "metadata": {
        "scrolled": true,
        "id": "tO2iYle82Tbg",
        "colab_type": "code",
        "colab": {},
        "outputId": "9f181960-67c4-4b37-c5fc-4fe5aad50c42"
      },
      "source": [
        "# b)\n",
        "\n",
        "F = np.cumsum(p)\n",
        "\n",
        "x_lim = [-5] + X + [10]\n",
        "f = [0] + list(F)\n",
        "\n",
        "\n",
        "plt.scatter(X, F, label='cdf', color='r')\n",
        "plt.scatter(X, f[:-1], s=80, facecolors='none', edgecolors='r')\n",
        "plt.xlim([-5, 10])\n",
        "plt.ylim([-0.1, 1.1])\n",
        "\n",
        "for i in range(len(x_lim) - 1):\n",
        "    plt.hlines(xmin=x_lim[i], xmax=x_lim[i+1], y=f[i], color='black', alpha=0.5, linestyle='--')\n",
        "\n",
        "plt.show()"
      ],
      "execution_count": null,
      "outputs": [
        {
          "output_type": "display_data",
          "data": {
            "image/png": "[encoded data removed]",
            "text/plain": [
              "<Figure size 432x288 with 1 Axes>"
            ]
          },
          "metadata": {
            "tags": [],
            "needs_background": "light"
          }
        }
      ]
    },
    {
      "cell_type": "code",
      "metadata": {
        "id": "3QQJ0EDA2Tbl",
        "colab_type": "code",
        "colab": {}
      },
      "source": [
        "# c)\n",
        "\n",
        "# P(X > 1) = P(X = 3) + P(X=5) = 0.7\n",
        "# P(0.25 < X < 5) = P(X=3) = 0.5"
      ],
      "execution_count": null,
      "outputs": []
    },
    {
      "cell_type": "code",
      "metadata": {
        "id": "6xxXDnP_2Tbv",
        "colab_type": "code",
        "colab": {},
        "outputId": "63b60338-95ae-4e23-e191-917690c7940b"
      },
      "source": [
        "# d)\n",
        "\n",
        "X = np.array(X)\n",
        "p = np.array(p)\n",
        "\n",
        "ex = np.sum(X * p)\n",
        "print(\"Wartość oczekiwana: {}\".format(ex))\n",
        "\n",
        "ex2 = np.sum(X ** 2 * p)\n",
        "print(\"Drugi moment: {}\".format(ex2))\n",
        "\n",
        "var = ex2 - ex ** 2\n",
        "print(\"Wariancja: {}\".format(var))\n",
        "\n",
        "std = np.sqrt(var)\n",
        "print(\"Odchylenie standardowe: {}\".format(std))"
      ],
      "execution_count": null,
      "outputs": [
        {
          "output_type": "stream",
          "text": [
            "Wartość oczekiwana: 2.0\n",
            "Drugi moment: 10.6\n",
            "Wariancja: 6.6\n",
            "Odchylenie standardowe: 2.569046515733026\n"
          ],
          "name": "stdout"
        }
      ]
    },
    {
      "cell_type": "markdown",
      "metadata": {
        "id": "nrfN12k02Tb1",
        "colab_type": "text"
      },
      "source": [
        "## ***Zadanie - rozkład ciągły\n",
        "Zmienna losowa X ma rozkład ciągły o gęstości:\n",
        "\n",
        "$$\n",
        "    f(x)=\\left.\n",
        "    \\begin{cases}\n",
        "    x \\quad &\\text{dla}\\quad 0<x\\leq 1\\\\\n",
        "    2-x \\quad &\\text{dla}\\quad 1<x\\leq 2\\\\\n",
        "    0 \\quad &\\text{dla}\\quad x>2, x\\le 0.\n",
        "    \\end{cases}\\right.\n",
        "$$\n",
        "\n",
        "\n",
        "a) Narysuj wykres gęstości.\n",
        "\n",
        "b) Wyznacz narysuj dystrybuante $F$ tego rozkładu.\n",
        "\n",
        "c) Oblicz prawdopodobieństwa $P(X > 1)$ i $P( \\frac{1}{4} < X \\leq 1)$.\n",
        "\n",
        "d) Oblicz wartość oczekiwaną, wariancję i odchylenie standardowe zmiennej X."
      ]
    },
    {
      "cell_type": "markdown",
      "metadata": {
        "id": "SlwsqUVu2Tb3",
        "colab_type": "text"
      },
      "source": [
        "### a)"
      ]
    },
    {
      "cell_type": "code",
      "metadata": {
        "id": "-qhqVE-u2Tb4",
        "colab_type": "code",
        "colab": {},
        "outputId": "26c58777-12f4-4f24-e417-3752de954b0d"
      },
      "source": [
        "xa = np.linspace(0, 1, 100)\n",
        "ya = xa\n",
        "\n",
        "xb = np.linspace(1, 2, 100)\n",
        "yb = 2 - xb\n",
        "\n",
        "plt.xlim([-3, 5])\n",
        "plt.plot(xa, ya, color='r')\n",
        "plt.plot(xb, yb, color='r')\n",
        "plt.hlines(xmin=-3, xmax=0, y=0, color='r')\n",
        "plt.hlines(xmin=2, xmax=5, y=0, color='r')"
      ],
      "execution_count": null,
      "outputs": [
        {
          "output_type": "execute_result",
          "data": {
            "text/plain": [
              "<matplotlib.collections.LineCollection at 0x7f3e12253d50>"
            ]
          },
          "metadata": {
            "tags": []
          },
          "execution_count": 84
        },
        {
          "output_type": "display_data",
          "data": {
            "image/png": "[encoded data removed]",
            "text/plain": [
              "<Figure size 432x288 with 1 Axes>"
            ]
          },
          "metadata": {
            "tags": [],
            "needs_background": "light"
          }
        }
      ]
    },
    {
      "cell_type": "code",
      "metadata": {
        "id": "a93bEid-2TcA",
        "colab_type": "code",
        "colab": {},
        "outputId": "e351efbc-4b8d-4fca-be68-82fbc8f94e0d"
      },
      "source": [
        "xa"
      ],
      "execution_count": null,
      "outputs": [
        {
          "output_type": "execute_result",
          "data": {
            "text/plain": [
              "array([], dtype=float64)"
            ]
          },
          "metadata": {
            "tags": []
          },
          "execution_count": 79
        }
      ]
    },
    {
      "cell_type": "markdown",
      "metadata": {
        "id": "2X6zgRSB2TcF",
        "colab_type": "text"
      },
      "source": [
        "### b)\n",
        "$$F(x) = \n",
        "\\begin{cases} \n",
        "0 &\\text{dla } x < 0 \\\\\n",
        "\\frac{x^2}{2} &\\text{dla } 0 \\leq x < 1 \\\\\n",
        "-\\frac{x^2}{2} + 2x - 1 &\\text{dla } 1 \\leq x < 2 \\\\\n",
        "1 &\\text{dla } x \\geq 2\n",
        "\\end{cases} $$"
      ]
    },
    {
      "cell_type": "code",
      "metadata": {
        "id": "39lF0Ars2TcG",
        "colab_type": "code",
        "colab": {},
        "outputId": "dd08ab5f-f439-44d8-85aa-5cf71d66214b"
      },
      "source": [
        "xa = np.linspace(0, 1, 100)\n",
        "ya = xa ** 2 / 2\n",
        "\n",
        "xb = np.linspace(1, 2, 100)\n",
        "yb = - xb**2 / 2 + 2 * xb - 1\n",
        "\n",
        "plt.xlim([-3, 5])\n",
        "plt.plot(xa, ya, color='r')\n",
        "plt.plot(xb, yb, color='r')\n",
        "plt.hlines(xmin=-3, xmax=0, y=0, color='r')\n",
        "plt.hlines(xmin=2, xmax=5, y=1, color='r')"
      ],
      "execution_count": null,
      "outputs": [
        {
          "output_type": "execute_result",
          "data": {
            "text/plain": [
              "<matplotlib.collections.LineCollection at 0x7f3e12a53910>"
            ]
          },
          "metadata": {
            "tags": []
          },
          "execution_count": 87
        },
        {
          "output_type": "display_data",
          "data": {
            "image/png": "[encoded data removed]",
            "text/plain": [
              "<Figure size 432x288 with 1 Axes>"
            ]
          },
          "metadata": {
            "tags": [],
            "needs_background": "light"
          }
        }
      ]
    },
    {
      "cell_type": "markdown",
      "metadata": {
        "id": "My0BbiYd2TcM",
        "colab_type": "text"
      },
      "source": [
        "### c) \n",
        "$\\mathbb{P}(X > 1) = 1 - \\mathbb{P}(X \\leq 1) = F(1) = 1 - 0.5 = 0.5$, \n",
        "\n",
        "$\\mathbb{P}(\\frac{1}{4} < X < 1) = F(1) - F(\\frac{1}{4}) = \\frac{1}{2} - \\frac{( \\frac{1}{4} ) ^ 2}{2} = \\frac{15}{32}$,\n",
        "\n",
        "### d) \n",
        "$\\mathbb{E}X = 1$, $\\mathbb{E}X^2 = \\frac{7}{6}$, $\\textrm{Var}X = \\mathbb{E}X^2 - (\\mathbb{E}X)^2 =  \\frac{1}{6}$, $\\sigma = \\sqrt{\\textrm{Var}X} = 0.4082483$."
      ]
    }
  ]
}